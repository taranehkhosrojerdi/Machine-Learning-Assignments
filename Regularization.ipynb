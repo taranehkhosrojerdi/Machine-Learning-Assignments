{
  "nbformat": 4,
  "nbformat_minor": 0,
  "metadata": {
    "colab": {
      "provenance": [],
      "gpuType": "T4"
    },
    "kernelspec": {
      "name": "python3",
      "display_name": "Python 3"
    },
    "language_info": {
      "name": "python"
    }
  },
  "cells": [
    {
      "cell_type": "markdown",
      "source": [
        "# **Introduction**"
      ],
      "metadata": {
        "id": "6Y2oAz-bELlu"
      }
    },
    {
      "cell_type": "markdown",
      "source": [
        "In this assignment, you will work with a dataset that includes The Boston housing data was collected in 1978 and each of the 506 entries represent aggregated data about 14 features for homes from various suburbs in Boston, Massachusetts. The target variable of interest in this dataset is the median value of owner-occupied homes (MEDV), which serves as a proxy for the house prices.\n",
        "First, you will start by fitting a basic regression model using scikit-learn (sklearn) to establish a baseline for comparison. This basic regression model will serve as a reference point for evaluating the performance of more sophisticated models incorporating regularization techniques.\n",
        "\n",
        "Furthermore, you will apply L1 (Lasso) and L2 (Ridge) regularization techniques to refine your predictions and evaluate the impact of these methods on the accuracy of your results. Regularization is a technique used to prevent overfitting by adding a penalty term to the loss function, encouraging simpler models with smaller coefficients. L1 regularization (Lasso) encourages sparsity by penalizing the absolute values of coefficients, while L2 regularization (Ridge) penalizes the square of coefficients. By incorporating these regularization techniques, you aim to improve the generalization performance of your regression models and obtain more robust predictions of house prices in the Boston area."
      ],
      "metadata": {
        "id": "333JCswHnbQp"
      }
    },
    {
      "cell_type": "markdown",
      "source": [
        "## Imports"
      ],
      "metadata": {
        "id": "sDDdf9AAoYXt"
      }
    },
    {
      "cell_type": "code",
      "source": [
        "import os\n",
        "import pandas\n",
        "from sklearn.linear_model import LinearRegression, Lasso, Ridge\n",
        "from sklearn.metrics import mean_squared_error, r2_score\n",
        "from sklearn.model_selection import train_test_split\n",
        "from sklearn.preprocessing import StandardScaler, PolynomialFeatures\n",
        "import numpy as np\n",
        "import pandas as pd\n",
        "import seaborn as sns\n",
        "from joblib import dump, load\n",
        "from matplotlib import pyplot as plt\n",
        "\n",
        "!wget -O /HousingData.csv \"https://www.dropbox.com/scl/fi/j3rxgrd8l7fgczzhiedlp/new.csv?rlkey=yngaf57gumhtmm3hxffk20qll&dl=0\""
      ],
      "metadata": {
        "id": "kkjrbInyoRyN",
        "colab": {
          "base_uri": "https://localhost:8080/"
        },
        "outputId": "97bc15f5-944e-4fbb-9111-89ef17773af8"
      },
      "execution_count": 168,
      "outputs": [
        {
          "output_type": "stream",
          "name": "stdout",
          "text": [
            "--2024-03-31 17:13:50--  https://www.dropbox.com/scl/fi/j3rxgrd8l7fgczzhiedlp/new.csv?rlkey=yngaf57gumhtmm3hxffk20qll&dl=0\n",
            "Resolving www.dropbox.com (www.dropbox.com)... 162.125.4.18, 2620:100:6022:18::a27d:4212\n",
            "Connecting to www.dropbox.com (www.dropbox.com)|162.125.4.18|:443... connected.\n",
            "HTTP request sent, awaiting response... 302 Found\n",
            "Location: https://uc08fe8af8bce8d1d8f202645294.dl.dropboxusercontent.com/cd/0/inline/CQJeOpqUBxk7YwJ2O1XES_WY0RKqz6y5s3D25Gefzvc80z7iAY2CuRxIDcrQYDY6nz16rMj5ya0wgW01h0D897MFjGIJziWhUmpXGO-sSkOB-zq-CDUhakXb4_RNk8CwebEKlK4w_d1_cF29nl3iqGLF/file# [following]\n",
            "--2024-03-31 17:13:51--  https://uc08fe8af8bce8d1d8f202645294.dl.dropboxusercontent.com/cd/0/inline/CQJeOpqUBxk7YwJ2O1XES_WY0RKqz6y5s3D25Gefzvc80z7iAY2CuRxIDcrQYDY6nz16rMj5ya0wgW01h0D897MFjGIJziWhUmpXGO-sSkOB-zq-CDUhakXb4_RNk8CwebEKlK4w_d1_cF29nl3iqGLF/file\n",
            "Resolving uc08fe8af8bce8d1d8f202645294.dl.dropboxusercontent.com (uc08fe8af8bce8d1d8f202645294.dl.dropboxusercontent.com)... 162.125.6.15, 2620:100:6018:15::a27d:30f\n",
            "Connecting to uc08fe8af8bce8d1d8f202645294.dl.dropboxusercontent.com (uc08fe8af8bce8d1d8f202645294.dl.dropboxusercontent.com)|162.125.6.15|:443... connected.\n",
            "HTTP request sent, awaiting response... 200 OK\n",
            "Length: 37599 (37K) [text/plain]\n",
            "Saving to: ‘/HousingData.csv’\n",
            "\n",
            "/HousingData.csv    100%[===================>]  36.72K  --.-KB/s    in 0.001s  \n",
            "\n",
            "2024-03-31 17:13:51 (44.0 MB/s) - ‘/HousingData.csv’ saved [37599/37599]\n",
            "\n"
          ]
        }
      ]
    },
    {
      "cell_type": "markdown",
      "source": [
        "# Load and Explore"
      ],
      "metadata": {
        "id": "jBpa9AGHEtD7"
      }
    },
    {
      "cell_type": "markdown",
      "source": [
        "Load the dataset (as a dataframe) using pandas and display the top 5 rows of the dataframe and then check for missing values and impute missing values with mean"
      ],
      "metadata": {
        "id": "MFzJZLOxoZDJ"
      }
    },
    {
      "cell_type": "code",
      "source": [
        "file_path = '/HousingData.csv'\n",
        "# TODO: Load the Dataset and Check for mising values and then impute them with the mean value\n",
        "housing_data = pd.read_csv(file_path)\n",
        "housing_data.fillna(housing_data.mean(), inplace=True)\n",
        "print(housing_data.head())"
      ],
      "metadata": {
        "id": "lqhABVd2oZYV",
        "colab": {
          "base_uri": "https://localhost:8080/"
        },
        "outputId": "435dc725-1df5-4fd2-f3a6-44c6ecbecb94"
      },
      "execution_count": 169,
      "outputs": [
        {
          "output_type": "stream",
          "name": "stdout",
          "text": [
            "      CRIM    ZN  INDUS  CHAS    NOX     RM   AGE     DIS  TAX  PTRATIO  \\\n",
            "0  0.00632  18.0   2.31   0.0  0.538  6.575  65.2  4.0900  296     15.3   \n",
            "1  0.02731   0.0   7.07   0.0  0.469  6.421  78.9  4.9671  242     17.8   \n",
            "2  0.02729   0.0   7.07   0.0  0.469  7.185  61.1  4.9671  242     17.8   \n",
            "3  0.03237   0.0   2.18   0.0  0.458  6.998  45.8  6.0622  222     18.7   \n",
            "4  0.06905   0.0   2.18   0.0  0.458  7.147  54.2  6.0622  222     18.7   \n",
            "\n",
            "        B      LSTAT  MEDV  \n",
            "0  396.90   4.980000  24.0  \n",
            "1  396.90   9.140000  21.6  \n",
            "2  392.83   4.030000  34.7  \n",
            "3  394.63   2.940000  33.4  \n",
            "4  396.90  12.715432  36.2  \n"
          ]
        }
      ]
    },
    {
      "cell_type": "markdown",
      "source": [
        "Get a brief description of the dataset"
      ],
      "metadata": {
        "id": "5-Py3iuJoZwi"
      }
    },
    {
      "cell_type": "code",
      "source": [
        "# TODO: you can use .info() and .description()\n",
        "print(housing_data.info())\n",
        "print(housing_data.describe())"
      ],
      "metadata": {
        "id": "zThHHTAcoZ_h",
        "colab": {
          "base_uri": "https://localhost:8080/"
        },
        "outputId": "c5086aab-8d07-419b-8157-56f5eaf970f8"
      },
      "execution_count": 170,
      "outputs": [
        {
          "output_type": "stream",
          "name": "stdout",
          "text": [
            "<class 'pandas.core.frame.DataFrame'>\n",
            "RangeIndex: 506 entries, 0 to 505\n",
            "Data columns (total 13 columns):\n",
            " #   Column   Non-Null Count  Dtype  \n",
            "---  ------   --------------  -----  \n",
            " 0   CRIM     506 non-null    float64\n",
            " 1   ZN       506 non-null    float64\n",
            " 2   INDUS    506 non-null    float64\n",
            " 3   CHAS     506 non-null    float64\n",
            " 4   NOX      506 non-null    float64\n",
            " 5   RM       506 non-null    float64\n",
            " 6   AGE      506 non-null    float64\n",
            " 7   DIS      506 non-null    float64\n",
            " 8   TAX      506 non-null    int64  \n",
            " 9   PTRATIO  506 non-null    float64\n",
            " 10  B        506 non-null    float64\n",
            " 11  LSTAT    506 non-null    float64\n",
            " 12  MEDV     506 non-null    float64\n",
            "dtypes: float64(12), int64(1)\n",
            "memory usage: 51.5 KB\n",
            "None\n",
            "             CRIM          ZN       INDUS        CHAS         NOX          RM  \\\n",
            "count  506.000000  506.000000  506.000000  506.000000  506.000000  506.000000   \n",
            "mean     3.611874   11.211934   11.083992    0.069959    0.554695    6.284634   \n",
            "std      8.545770   22.921051    6.699165    0.250233    0.115878    0.702617   \n",
            "min      0.006320    0.000000    0.460000    0.000000    0.385000    3.561000   \n",
            "25%      0.083235    0.000000    5.190000    0.000000    0.449000    5.885500   \n",
            "50%      0.290250    0.000000    9.900000    0.000000    0.538000    6.208500   \n",
            "75%      3.611874   11.211934   18.100000    0.000000    0.624000    6.623500   \n",
            "max     88.976200  100.000000   27.740000    1.000000    0.871000    8.780000   \n",
            "\n",
            "              AGE         DIS         TAX     PTRATIO           B       LSTAT  \\\n",
            "count  506.000000  506.000000  506.000000  506.000000  506.000000  506.000000   \n",
            "mean    68.518519    3.795043  408.237154   18.455534  356.674032   12.715432   \n",
            "std     27.439466    2.105710  168.537116    2.164946   91.294864    7.012739   \n",
            "min      2.900000    1.129600  187.000000   12.600000    0.320000    1.730000   \n",
            "25%     45.925000    2.100175  279.000000   17.400000  375.377500    7.230000   \n",
            "50%     74.450000    3.207450  330.000000   19.050000  391.440000   11.995000   \n",
            "75%     93.575000    5.188425  666.000000   20.200000  396.225000   16.570000   \n",
            "max    100.000000   12.126500  711.000000   22.000000  396.900000   37.970000   \n",
            "\n",
            "             MEDV  \n",
            "count  506.000000  \n",
            "mean    22.532806  \n",
            "std      9.197104  \n",
            "min      5.000000  \n",
            "25%     17.025000  \n",
            "50%     21.200000  \n",
            "75%     25.000000  \n",
            "max     50.000000  \n"
          ]
        }
      ]
    },
    {
      "cell_type": "markdown",
      "source": [
        "Extract only the features from the dataframe by removing the target column and then Convert the new dataframe into a numpy array\n",
        "</br>\n",
        "Note: **Do not remove the previous dataframe.**\n"
      ],
      "metadata": {
        "id": "gHcKVT_4oabK"
      }
    },
    {
      "cell_type": "markdown",
      "source": [
        "# Preprocessing"
      ],
      "metadata": {
        "id": "VkDUEmURE-Sx"
      }
    },
    {
      "cell_type": "code",
      "source": [
        "# TODO: drop MEDV and convert to numpy array\n",
        "features_array = housing_data.drop(columns=['MEDV']).values\n",
        "print(type(features_array))\n",
        "print(features_array)"
      ],
      "metadata": {
        "id": "FtT8kFoBoajv",
        "colab": {
          "base_uri": "https://localhost:8080/"
        },
        "outputId": "d9dc843b-9de5-4a0e-b9d7-264244a3cb82"
      },
      "execution_count": 171,
      "outputs": [
        {
          "output_type": "stream",
          "name": "stdout",
          "text": [
            "<class 'numpy.ndarray'>\n",
            "[[6.3200e-03 1.8000e+01 2.3100e+00 ... 1.5300e+01 3.9690e+02 4.9800e+00]\n",
            " [2.7310e-02 0.0000e+00 7.0700e+00 ... 1.7800e+01 3.9690e+02 9.1400e+00]\n",
            " [2.7290e-02 0.0000e+00 7.0700e+00 ... 1.7800e+01 3.9283e+02 4.0300e+00]\n",
            " ...\n",
            " [6.0760e-02 0.0000e+00 1.1930e+01 ... 2.1000e+01 3.9690e+02 5.6400e+00]\n",
            " [1.0959e-01 0.0000e+00 1.1930e+01 ... 2.1000e+01 3.9345e+02 6.4800e+00]\n",
            " [4.7410e-02 0.0000e+00 1.1930e+01 ... 2.1000e+01 3.9690e+02 7.8800e+00]]\n"
          ]
        }
      ]
    },
    {
      "cell_type": "markdown",
      "source": [
        "look for outliers using box plot and if There are some outliers in data, use StandardScaler can help in scaling data."
      ],
      "metadata": {
        "id": "forjBjgQHDz0"
      }
    },
    {
      "cell_type": "code",
      "source": [
        "scaled_features = StandardScaler().fit_transform(features_array)\n",
        "scaled_data = data=pd.DataFrame(scaled_features, columns=housing_data.columns[:-1])\n",
        "plt.figure(figsize=(12, 6))\n",
        "sns.boxplot(data=scaled_data)\n",
        "plt.title(\"Outliers box plot\")\n",
        "plt.xticks(rotation=45)\n",
        "plt.show()"
      ],
      "metadata": {
        "id": "fJVP9gGnFHbM",
        "colab": {
          "base_uri": "https://localhost:8080/",
          "height": 581
        },
        "outputId": "f8b830e6-e75d-436c-8c9e-7c981101a553"
      },
      "execution_count": 172,
      "outputs": [
        {
          "output_type": "display_data",
          "data": {
            "text/plain": [
              "<Figure size 1200x600 with 1 Axes>"
            ],
            "image/png": "[encoded data removed]"
          },
          "metadata": {}
        }
      ]
    },
    {
      "cell_type": "markdown",
      "source": [
        "add polynomial features to increase model complexity!\n",
        "\n"
      ],
      "metadata": {
        "id": "mLfX6ugX3fNM"
      }
    },
    {
      "cell_type": "code",
      "source": [
        "degree = 2\n",
        "poly = PolynomialFeatures(degree=degree)\n",
        "poly_features = poly.fit_transform(scaled_features)"
      ],
      "metadata": {
        "id": "rkEQ02jU3fXj"
      },
      "execution_count": 173,
      "outputs": []
    },
    {
      "cell_type": "markdown",
      "source": [
        "Extract the target column from the previously mentioned DataFrame and transform it into a new NumPy array, named y."
      ],
      "metadata": {
        "id": "8_TZ52zNoatM"
      }
    },
    {
      "cell_type": "code",
      "source": [
        "# TODO: extract the MEDV\n",
        "y = housing_data['MEDV'].values\n",
        "print(type(y))\n",
        "print(y[:5])"
      ],
      "metadata": {
        "id": "lzDxTUBFoa4I",
        "colab": {
          "base_uri": "https://localhost:8080/"
        },
        "outputId": "2826131a-05ab-486d-abec-be8759394cee"
      },
      "execution_count": 174,
      "outputs": [
        {
          "output_type": "stream",
          "name": "stdout",
          "text": [
            "<class 'numpy.ndarray'>\n",
            "[24.  21.6 34.7 33.4 36.2]\n"
          ]
        }
      ]
    },
    {
      "cell_type": "markdown",
      "source": [
        "\n",
        "\n",
        "Split the dataset into two parts such that the training set contains 80% of the samples."
      ],
      "metadata": {
        "id": "6zVgga7tobBP"
      }
    },
    {
      "cell_type": "code",
      "source": [
        "# TODO: Split the dataset into two parts such that the training set contains 80% of the samples.\n",
        "X_train, X_test, y_train, y_test = train_test_split(poly_features, y, test_size=0.2, random_state=42)"
      ],
      "metadata": {
        "id": "2LGiy-8LobKh"
      },
      "execution_count": 175,
      "outputs": []
    },
    {
      "cell_type": "markdown",
      "source": [
        "# Training"
      ],
      "metadata": {
        "id": "s-rejkt9FHTj"
      }
    },
    {
      "cell_type": "markdown",
      "source": [
        "\n",
        "Fit a linear regressor to the data. (Use sklearn)\n"
      ],
      "metadata": {
        "id": "_qoiRXLOv25z"
      }
    },
    {
      "cell_type": "code",
      "source": [
        "# TODO: Use sklearn\n",
        "linear_regressor = LinearRegression()\n",
        "linear_regressor.fit(X_train, y_train)"
      ],
      "metadata": {
        "id": "jWvwdl-Iv3FF",
        "colab": {
          "base_uri": "https://localhost:8080/",
          "height": 74
        },
        "outputId": "8ca8eb0c-d18e-43f1-c27d-97478a8ee350"
      },
      "execution_count": 176,
      "outputs": [
        {
          "output_type": "execute_result",
          "data": {
            "text/plain": [
              "LinearRegression()"
            ],
            "text/html": [
              "<style>#sk-container-id-24 {color: black;background-color: white;}#sk-container-id-24 pre{padding: 0;}#sk-container-id-24 div.sk-toggleable {background-color: white;}#sk-container-id-24 label.sk-toggleable__label {cursor: pointer;display: block;width: 100%;margin-bottom: 0;padding: 0.3em;box-sizing: border-box;text-align: center;}#sk-container-id-24 label.sk-toggleable__label-arrow:before {content: \"▸\";float: left;margin-right: 0.25em;color: #696969;}#sk-container-id-24 label.sk-toggleable__label-arrow:hover:before {color: black;}#sk-container-id-24 div.sk-estimator:hover label.sk-toggleable__label-arrow:before {color: black;}#sk-container-id-24 div.sk-toggleable__content {max-height: 0;max-width: 0;overflow: hidden;text-align: left;background-color: #f0f8ff;}#sk-container-id-24 div.sk-toggleable__content pre {margin: 0.2em;color: black;border-radius: 0.25em;background-color: #f0f8ff;}#sk-container-id-24 input.sk-toggleable__control:checked~div.sk-toggleable__content {max-height: 200px;max-width: 100%;overflow: auto;}#sk-container-id-24 input.sk-toggleable__control:checked~label.sk-toggleable__label-arrow:before {content: \"▾\";}#sk-container-id-24 div.sk-estimator input.sk-toggleable__control:checked~label.sk-toggleable__label {background-color: #d4ebff;}#sk-container-id-24 div.sk-label input.sk-toggleable__control:checked~label.sk-toggleable__label {background-color: #d4ebff;}#sk-container-id-24 input.sk-hidden--visually {border: 0;clip: rect(1px 1px 1px 1px);clip: rect(1px, 1px, 1px, 1px);height: 1px;margin: -1px;overflow: hidden;padding: 0;position: absolute;width: 1px;}#sk-container-id-24 div.sk-estimator {font-family: monospace;background-color: #f0f8ff;border: 1px dotted black;border-radius: 0.25em;box-sizing: border-box;margin-bottom: 0.5em;}#sk-container-id-24 div.sk-estimator:hover {background-color: #d4ebff;}#sk-container-id-24 div.sk-parallel-item::after {content: \"\";width: 100%;border-bottom: 1px solid gray;flex-grow: 1;}#sk-container-id-24 div.sk-label:hover label.sk-toggleable__label {background-color: #d4ebff;}#sk-container-id-24 div.sk-serial::before {content: \"\";position: absolute;border-left: 1px solid gray;box-sizing: border-box;top: 0;bottom: 0;left: 50%;z-index: 0;}#sk-container-id-24 div.sk-serial {display: flex;flex-direction: column;align-items: center;background-color: white;padding-right: 0.2em;padding-left: 0.2em;position: relative;}#sk-container-id-24 div.sk-item {position: relative;z-index: 1;}#sk-container-id-24 div.sk-parallel {display: flex;align-items: stretch;justify-content: center;background-color: white;position: relative;}#sk-container-id-24 div.sk-item::before, #sk-container-id-24 div.sk-parallel-item::before {content: \"\";position: absolute;border-left: 1px solid gray;box-sizing: border-box;top: 0;bottom: 0;left: 50%;z-index: -1;}#sk-container-id-24 div.sk-parallel-item {display: flex;flex-direction: column;z-index: 1;position: relative;background-color: white;}#sk-container-id-24 div.sk-parallel-item:first-child::after {align-self: flex-end;width: 50%;}#sk-container-id-24 div.sk-parallel-item:last-child::after {align-self: flex-start;width: 50%;}#sk-container-id-24 div.sk-parallel-item:only-child::after {width: 0;}#sk-container-id-24 div.sk-dashed-wrapped {border: 1px dashed gray;margin: 0 0.4em 0.5em 0.4em;box-sizing: border-box;padding-bottom: 0.4em;background-color: white;}#sk-container-id-24 div.sk-label label {font-family: monospace;font-weight: bold;display: inline-block;line-height: 1.2em;}#sk-container-id-24 div.sk-label-container {text-align: center;}#sk-container-id-24 div.sk-container {/* jupyter's `normalize.less` sets `[hidden] { display: none; }` but bootstrap.min.css set `[hidden] { display: none !important; }` so we also need the `!important` here to be able to override the default hidden behavior on the sphinx rendered scikit-learn.org. See: https://github.com/scikit-learn/scikit-learn/issues/21755 */display: inline-block !important;position: relative;}#sk-container-id-24 div.sk-text-repr-fallback {display: none;}</style><div id=\"sk-container-id-24\" class=\"sk-top-container\"><div class=\"sk-text-repr-fallback\"><pre>LinearRegression()</pre><b>In a Jupyter environment, please rerun this cell to show the HTML representation or trust the notebook. <br />On GitHub, the HTML representation is unable to render, please try loading this page with nbviewer.org.</b></div><div class=\"sk-container\" hidden><div class=\"sk-item\"><div class=\"sk-estimator sk-toggleable\"><input class=\"sk-toggleable__control sk-hidden--visually\" id=\"sk-estimator-id-24\" type=\"checkbox\" checked><label for=\"sk-estimator-id-24\" class=\"sk-toggleable__label sk-toggleable__label-arrow\">LinearRegression</label><div class=\"sk-toggleable__content\"><pre>LinearRegression()</pre></div></div></div></div></div>"
            ]
          },
          "metadata": {},
          "execution_count": 176
        }
      ]
    },
    {
      "cell_type": "markdown",
      "source": [
        "Get the coefficients of the variables and visualize it"
      ],
      "metadata": {
        "id": "8ytvTJ60v3Oq"
      }
    },
    {
      "cell_type": "code",
      "source": [
        "coefficients = linear_regressor.coef_\n",
        "\n",
        "plt.figure(figsize=(12, 6))\n",
        "plt.bar(range(len(coefficients)), coefficients)\n",
        "plt.xlabel('Feature')\n",
        "plt.ylabel('Coefficient')\n",
        "plt.title('Coefficients of Variables in Linear Regression Model')\n",
        "plt.grid(True)\n",
        "plt.show()"
      ],
      "metadata": {
        "id": "Lh9C3xihv3X3",
        "colab": {
          "base_uri": "https://localhost:8080/",
          "height": 564
        },
        "outputId": "419bd01e-b772-4a06-d1ff-00420090a58f"
      },
      "execution_count": 177,
      "outputs": [
        {
          "output_type": "display_data",
          "data": {
            "text/plain": [
              "<Figure size 1200x600 with 1 Axes>"
            ],
            "image/png": "[encoded data removed]"
          },
          "metadata": {}
        }
      ]
    },
    {
      "cell_type": "markdown",
      "source": [
        "Get the score value of sklearn regressor on train dataset</br>\n",
        "if you are not familiar with R-squared concept see the link below:\n",
        "[R-squared](https://statisticsbyjim.com/regression/interpret-r-squared-regression/)\n",
        "\n"
      ],
      "metadata": {
        "id": "eTCcA4W8v3f4"
      }
    },
    {
      "cell_type": "code",
      "source": [
        "# TODO: Calculate R² score and MSE on the training dataset\n",
        "r2_train_linear = linear_regressor.score(X_train, y_train)\n",
        "y_train_pred = linear_regressor.predict(X_train)\n",
        "mse_train_linear = mean_squared_error(y_train, y_train_pred)\n",
        "\n",
        "print(\"R² score on training dataset:\", r2_train_linear)\n",
        "print(\"Mean Squared Error (MSE) on training dataset:\", mse_train_linear)"
      ],
      "metadata": {
        "id": "onAXRIl7v3qJ",
        "colab": {
          "base_uri": "https://localhost:8080/"
        },
        "outputId": "95130795-f279-4d5e-d824-ac80515bd1c5"
      },
      "execution_count": 178,
      "outputs": [
        {
          "output_type": "stream",
          "name": "stdout",
          "text": [
            "R² score on training dataset: 0.9233615957926449\n",
            "Mean Squared Error (MSE) on training dataset: 6.65783903781899\n"
          ]
        }
      ]
    },
    {
      "cell_type": "markdown",
      "source": [
        "Predict the value of \"y\" for each \"x\" belonging to the \"testing\" set"
      ],
      "metadata": {
        "id": "RXBvLGMcwpbT"
      }
    },
    {
      "cell_type": "code",
      "source": [
        "y_test_pred = linear_regressor.predict(X_test)\n",
        "y_test_pred"
      ],
      "metadata": {
        "id": "bA_DNqeKwprp",
        "colab": {
          "base_uri": "https://localhost:8080/"
        },
        "outputId": "9820018c-429e-4a85-b010-feb27f8829be"
      },
      "execution_count": 179,
      "outputs": [
        {
          "output_type": "execute_result",
          "data": {
            "text/plain": [
              "array([26.60760472, 39.62214268, 18.71401934, 21.00627478, 15.36932115,\n",
              "       18.14967249, 19.2680689 , 14.04520907, 20.41411804, 19.68358046,\n",
              "       19.34721612, 17.80080883,  9.52923494, 17.56130221, 17.61765281,\n",
              "       23.1886407 , 19.83784911,  9.82571722, 48.00938013, 13.01200313,\n",
              "       24.67113881, 28.75366122, 15.14797668, 19.48768303, 16.8711114 ,\n",
              "       16.54597743, 17.07120558, 13.34377675, 16.66485127, 19.34855953,\n",
              "       18.50229727, 23.95889069, 15.48239335, 25.70102382, 13.69224402,\n",
              "       17.48588361, 33.1589375 , 20.10130817, 20.24277819, 21.68697931,\n",
              "       16.91569466, 31.33039866, 53.78155342, 15.35787882, 27.30502419,\n",
              "       15.90970181, 14.76748839, 23.49841731, 17.57527936, 29.19894908,\n",
              "       19.95253249, 33.61207695, 17.02933983, 26.86934524, 44.01327048,\n",
              "       23.0722288 , 13.43102214, 32.42020215, 25.15187612, 12.20309801,\n",
              "       25.03914004, 29.01333968, 31.99975955, 14.25741358, 27.2478974 ,\n",
              "       13.81980117, 14.35877776, 24.56841459, 29.12596225, 12.07120755,\n",
              "       21.52505912, 27.39851469,  9.60239834, 22.99803726, 19.8464662 ,\n",
              "        7.55139317, 22.13069349, 49.95089019, 11.35178549, 11.98183645,\n",
              "       18.34848076, 12.31262512, 15.91992994, 11.17875652, 20.05758709,\n",
              "       28.21017905, 17.52432039, 24.64183624, 25.95216955, 18.86643395,\n",
              "       24.91833318,  7.26540165, 20.04649013, 17.38110339, 44.76506329,\n",
              "       20.87525411, 25.80390969,  5.75854824, 11.00494177, 15.63482602,\n",
              "       23.13270522, 20.58824762])"
            ]
          },
          "metadata": {},
          "execution_count": 179
        }
      ]
    },
    {
      "cell_type": "markdown",
      "source": [
        "# Lasso Regularization(L1)"
      ],
      "metadata": {
        "id": "z_aF3pNEFP79"
      }
    },
    {
      "cell_type": "markdown",
      "source": [
        "L1 regularization, also known as Lasso (Least Absolute Shrinkage and Selection Operator) regularization, is a technique used in regression models that encourages simplicity and sparsity in the model coefficients. This is achieved by adding a penalty equal to the absolute value of the magnitude of coefficients to the loss function.\\\n",
        "</br>\n",
        "Train a regression model using L1 regularization."
      ],
      "metadata": {
        "id": "PPMTy_D_wp-X"
      }
    },
    {
      "cell_type": "code",
      "source": [
        "# TODO: Use Lasso from sklearn library\n",
        "lasso_regressor = Lasso(alpha=0.5, max_iter=10000)\n",
        "lasso_regressor.fit(X_train, y_train)"
      ],
      "metadata": {
        "id": "SHr5JR4fwqHO",
        "colab": {
          "base_uri": "https://localhost:8080/",
          "height": 74
        },
        "outputId": "238e934b-3200-46fb-dbe7-683baef5d1c7"
      },
      "execution_count": 180,
      "outputs": [
        {
          "output_type": "execute_result",
          "data": {
            "text/plain": [
              "Lasso(alpha=0.5, max_iter=10000)"
            ],
            "text/html": [
              "<style>#sk-container-id-25 {color: black;background-color: white;}#sk-container-id-25 pre{padding: 0;}#sk-container-id-25 div.sk-toggleable {background-color: white;}#sk-container-id-25 label.sk-toggleable__label {cursor: pointer;display: block;width: 100%;margin-bottom: 0;padding: 0.3em;box-sizing: border-box;text-align: center;}#sk-container-id-25 label.sk-toggleable__label-arrow:before {content: \"▸\";float: left;margin-right: 0.25em;color: #696969;}#sk-container-id-25 label.sk-toggleable__label-arrow:hover:before {color: black;}#sk-container-id-25 div.sk-estimator:hover label.sk-toggleable__label-arrow:before {color: black;}#sk-container-id-25 div.sk-toggleable__content {max-height: 0;max-width: 0;overflow: hidden;text-align: left;background-color: #f0f8ff;}#sk-container-id-25 div.sk-toggleable__content pre {margin: 0.2em;color: black;border-radius: 0.25em;background-color: #f0f8ff;}#sk-container-id-25 input.sk-toggleable__control:checked~div.sk-toggleable__content {max-height: 200px;max-width: 100%;overflow: auto;}#sk-container-id-25 input.sk-toggleable__control:checked~label.sk-toggleable__label-arrow:before {content: \"▾\";}#sk-container-id-25 div.sk-estimator input.sk-toggleable__control:checked~label.sk-toggleable__label {background-color: #d4ebff;}#sk-container-id-25 div.sk-label input.sk-toggleable__control:checked~label.sk-toggleable__label {background-color: #d4ebff;}#sk-container-id-25 input.sk-hidden--visually {border: 0;clip: rect(1px 1px 1px 1px);clip: rect(1px, 1px, 1px, 1px);height: 1px;margin: -1px;overflow: hidden;padding: 0;position: absolute;width: 1px;}#sk-container-id-25 div.sk-estimator {font-family: monospace;background-color: #f0f8ff;border: 1px dotted black;border-radius: 0.25em;box-sizing: border-box;margin-bottom: 0.5em;}#sk-container-id-25 div.sk-estimator:hover {background-color: #d4ebff;}#sk-container-id-25 div.sk-parallel-item::after {content: \"\";width: 100%;border-bottom: 1px solid gray;flex-grow: 1;}#sk-container-id-25 div.sk-label:hover label.sk-toggleable__label {background-color: #d4ebff;}#sk-container-id-25 div.sk-serial::before {content: \"\";position: absolute;border-left: 1px solid gray;box-sizing: border-box;top: 0;bottom: 0;left: 50%;z-index: 0;}#sk-container-id-25 div.sk-serial {display: flex;flex-direction: column;align-items: center;background-color: white;padding-right: 0.2em;padding-left: 0.2em;position: relative;}#sk-container-id-25 div.sk-item {position: relative;z-index: 1;}#sk-container-id-25 div.sk-parallel {display: flex;align-items: stretch;justify-content: center;background-color: white;position: relative;}#sk-container-id-25 div.sk-item::before, #sk-container-id-25 div.sk-parallel-item::before {content: \"\";position: absolute;border-left: 1px solid gray;box-sizing: border-box;top: 0;bottom: 0;left: 50%;z-index: -1;}#sk-container-id-25 div.sk-parallel-item {display: flex;flex-direction: column;z-index: 1;position: relative;background-color: white;}#sk-container-id-25 div.sk-parallel-item:first-child::after {align-self: flex-end;width: 50%;}#sk-container-id-25 div.sk-parallel-item:last-child::after {align-self: flex-start;width: 50%;}#sk-container-id-25 div.sk-parallel-item:only-child::after {width: 0;}#sk-container-id-25 div.sk-dashed-wrapped {border: 1px dashed gray;margin: 0 0.4em 0.5em 0.4em;box-sizing: border-box;padding-bottom: 0.4em;background-color: white;}#sk-container-id-25 div.sk-label label {font-family: monospace;font-weight: bold;display: inline-block;line-height: 1.2em;}#sk-container-id-25 div.sk-label-container {text-align: center;}#sk-container-id-25 div.sk-container {/* jupyter's `normalize.less` sets `[hidden] { display: none; }` but bootstrap.min.css set `[hidden] { display: none !important; }` so we also need the `!important` here to be able to override the default hidden behavior on the sphinx rendered scikit-learn.org. See: https://github.com/scikit-learn/scikit-learn/issues/21755 */display: inline-block !important;position: relative;}#sk-container-id-25 div.sk-text-repr-fallback {display: none;}</style><div id=\"sk-container-id-25\" class=\"sk-top-container\"><div class=\"sk-text-repr-fallback\"><pre>Lasso(alpha=0.5, max_iter=10000)</pre><b>In a Jupyter environment, please rerun this cell to show the HTML representation or trust the notebook. <br />On GitHub, the HTML representation is unable to render, please try loading this page with nbviewer.org.</b></div><div class=\"sk-container\" hidden><div class=\"sk-item\"><div class=\"sk-estimator sk-toggleable\"><input class=\"sk-toggleable__control sk-hidden--visually\" id=\"sk-estimator-id-25\" type=\"checkbox\" checked><label for=\"sk-estimator-id-25\" class=\"sk-toggleable__label sk-toggleable__label-arrow\">Lasso</label><div class=\"sk-toggleable__content\"><pre>Lasso(alpha=0.5, max_iter=10000)</pre></div></div></div></div></div>"
            ]
          },
          "metadata": {},
          "execution_count": 180
        }
      ]
    },
    {
      "cell_type": "markdown",
      "source": [
        "Get the coefficients of the variables and visualize it."
      ],
      "metadata": {
        "id": "du892nvjwqPi"
      }
    },
    {
      "cell_type": "code",
      "source": [
        "# Get the coefficients of the variables from the trained Lasso regression model\n",
        "lasso_coefficients = lasso_regressor.coef_\n",
        "plt.figure(figsize=(12, 6))\n",
        "plt.bar(range(len(lasso_coefficients)), lasso_coefficients)\n",
        "plt.xlabel('Feature')\n",
        "plt.ylabel('Coefficient')\n",
        "plt.title('Coefficients of Variables in Lasso Regression Model')\n",
        "plt.grid(True)\n",
        "plt.show()\n"
      ],
      "metadata": {
        "id": "W-yiCdq1wqcn",
        "colab": {
          "base_uri": "https://localhost:8080/",
          "height": 564
        },
        "outputId": "2d473cbb-450f-4b66-b29d-fdf06aebdefb"
      },
      "execution_count": 181,
      "outputs": [
        {
          "output_type": "display_data",
          "data": {
            "text/plain": [
              "<Figure size 1200x600 with 1 Axes>"
            ],
            "image/png": "[encoded data removed]"
          },
          "metadata": {}
        }
      ]
    },
    {
      "cell_type": "markdown",
      "source": [
        "1- What observations can you make about the weight distribution when applying L1 regularization?\n",
        "\n",
        "2- How do different values of the regularization parameter (alpha) affect the sparsity of the model coefficients?"
      ],
      "metadata": {
        "id": "mI3QuD8Wydqc"
      }
    },
    {
      "cell_type": "markdown",
      "source": [
        "    Your Answer Goes here.\n",
        "\n",
        "- It shows a sparser distribution of coefficients while applying L1 regularization. The reason is because L1 regularization pushes coeeficients of less important features towards exact value of zero.\n",
        "\n",
        "- a higher regularization parameter, causes elimination of more features, leading to a simpler model with less features."
      ],
      "metadata": {
        "id": "RREHXw6dydzd"
      }
    },
    {
      "cell_type": "markdown",
      "source": [
        "Get the score value on train *dataset*\n"
      ],
      "metadata": {
        "id": "VWHqbCktz2OD"
      }
    },
    {
      "cell_type": "code",
      "source": [
        "# TODO: Calculate R² score and MSE on the training dataset\n",
        "y_train_pred_lasso = lasso_regressor.predict(X_train)\n",
        "\n",
        "# Calculate R² score on the training dataset\n",
        "r2_train_lasso = r2_score(y_train, y_train_pred_lasso)\n",
        "\n",
        "# Calculate Mean Squared Error (MSE) on the training dataset\n",
        "mse_train_lasso = mean_squared_error(y_train, y_train_pred_lasso)\n",
        "\n",
        "# Output the R² score and MSE on the training dataset\n",
        "print(\"R² score on training dataset (Lasso):\", r2_train_lasso)\n",
        "print(\"Mean Squared Error (MSE) on training dataset (Lasso):\", mse_train_lasso)"
      ],
      "metadata": {
        "id": "RbHNlgfTz2WI",
        "colab": {
          "base_uri": "https://localhost:8080/"
        },
        "outputId": "bd6b6993-c8bc-4606-d0a8-b6a36c6fa764"
      },
      "execution_count": 182,
      "outputs": [
        {
          "output_type": "stream",
          "name": "stdout",
          "text": [
            "R² score on training dataset (Lasso): 0.8171286694481938\n",
            "Mean Squared Error (MSE) on training dataset (Lasso): 15.88665494849732\n"
          ]
        }
      ]
    },
    {
      "cell_type": "markdown",
      "source": [
        "Predict the value of \"y\" for each \"x\" belonging to the \"testing\" set"
      ],
      "metadata": {
        "id": "hjI1nMXVz2f2"
      }
    },
    {
      "cell_type": "code",
      "source": [
        "y_test_pred_lasso = lasso_regressor.predict(X_test)\n",
        "y_test_pred_lasso"
      ],
      "metadata": {
        "id": "KfOWH0oQz2mY",
        "colab": {
          "base_uri": "https://localhost:8080/"
        },
        "outputId": "496040f3-53a2-4af3-966d-24a93c9909e6"
      },
      "execution_count": 183,
      "outputs": [
        {
          "output_type": "execute_result",
          "data": {
            "text/plain": [
              "array([25.01553605, 32.02170508, 16.56431707, 23.67545781, 17.13464034,\n",
              "       21.69118954, 18.08272601, 14.79576716, 20.40693987, 19.6387817 ,\n",
              "       21.53217387, 19.92343501,  6.64235117, 21.28994714, 19.61841959,\n",
              "       22.15653103, 18.10047426, 11.57157362, 42.41465504, 16.42067495,\n",
              "       21.39943226, 25.60136064, 15.78693485, 22.04815612, 17.9021186 ,\n",
              "       17.00238679, 19.88982538, 13.39822411, 21.17351703, 19.18396855,\n",
              "       18.45930572, 24.45954182, 22.28497567, 22.26103013, 14.87175003,\n",
              "       17.51351063, 32.12600448, 20.57590791, 22.56516819, 20.96313305,\n",
              "       15.55620789, 27.56743981, 44.34319575, 18.69292057, 24.52131935,\n",
              "       17.12080258, 16.94276939, 24.60012608, 18.02835641, 28.77188928,\n",
              "       21.29219328, 31.99034286, 17.89886858, 25.3993675 , 39.45589001,\n",
              "       22.16073425, 17.33354312, 28.94005254, 23.43768009, 17.00480941,\n",
              "       24.78746672, 31.5308728 , 28.44268606, 19.11754198, 26.06453555,\n",
              "       17.74025689, 17.46661041, 24.07595784, 27.21904407, 12.41794401,\n",
              "       18.96854429, 25.30678507, 12.52088818, 21.93187535, 22.04846018,\n",
              "        8.76834845, 20.47808211, 41.66158441, 15.06191799, 13.48259615,\n",
              "       21.44899084, 12.04377305, 21.41888025, 13.33517454, 21.09970534,\n",
              "       29.74964082, 18.10571831, 24.96133183, 24.51130599, 19.7996216 ,\n",
              "       22.33310177, 10.22300224, 20.74225997, 19.942328  , 33.26834975,\n",
              "       21.54646686, 22.90863042,  7.80871909, 13.38402503, 12.52417522,\n",
              "       20.25376137, 23.3348229 ])"
            ]
          },
          "metadata": {},
          "execution_count": 183
        }
      ]
    },
    {
      "cell_type": "markdown",
      "source": [
        "# Ridge Regularization(L2)"
      ],
      "metadata": {
        "id": "XHpNCGELFZsu"
      }
    },
    {
      "cell_type": "markdown",
      "source": [
        "L2 regularization, also known as Ridge regularization, is a technique used in regression models to prevent overfitting by adding a penalty equivalent to the square of the magnitude of coefficients to the loss function.\n",
        "</br>\n",
        "Train a regression model using L2 regularization."
      ],
      "metadata": {
        "id": "qsVvbx5vy3LP"
      }
    },
    {
      "cell_type": "code",
      "source": [
        "# TODO: Use Ridge from sklearn library\n",
        "ridge_regressor = Ridge(alpha=10.0)\n",
        "ridge_regressor.fit(X_train, y_train)"
      ],
      "metadata": {
        "id": "ww93tqpWwq99",
        "colab": {
          "base_uri": "https://localhost:8080/",
          "height": 74
        },
        "outputId": "7164443f-5373-4fed-ce85-20a03bccd0b8"
      },
      "execution_count": 197,
      "outputs": [
        {
          "output_type": "execute_result",
          "data": {
            "text/plain": [
              "Ridge(alpha=10.0)"
            ],
            "text/html": [
              "<style>#sk-container-id-28 {color: black;background-color: white;}#sk-container-id-28 pre{padding: 0;}#sk-container-id-28 div.sk-toggleable {background-color: white;}#sk-container-id-28 label.sk-toggleable__label {cursor: pointer;display: block;width: 100%;margin-bottom: 0;padding: 0.3em;box-sizing: border-box;text-align: center;}#sk-container-id-28 label.sk-toggleable__label-arrow:before {content: \"▸\";float: left;margin-right: 0.25em;color: #696969;}#sk-container-id-28 label.sk-toggleable__label-arrow:hover:before {color: black;}#sk-container-id-28 div.sk-estimator:hover label.sk-toggleable__label-arrow:before {color: black;}#sk-container-id-28 div.sk-toggleable__content {max-height: 0;max-width: 0;overflow: hidden;text-align: left;background-color: #f0f8ff;}#sk-container-id-28 div.sk-toggleable__content pre {margin: 0.2em;color: black;border-radius: 0.25em;background-color: #f0f8ff;}#sk-container-id-28 input.sk-toggleable__control:checked~div.sk-toggleable__content {max-height: 200px;max-width: 100%;overflow: auto;}#sk-container-id-28 input.sk-toggleable__control:checked~label.sk-toggleable__label-arrow:before {content: \"▾\";}#sk-container-id-28 div.sk-estimator input.sk-toggleable__control:checked~label.sk-toggleable__label {background-color: #d4ebff;}#sk-container-id-28 div.sk-label input.sk-toggleable__control:checked~label.sk-toggleable__label {background-color: #d4ebff;}#sk-container-id-28 input.sk-hidden--visually {border: 0;clip: rect(1px 1px 1px 1px);clip: rect(1px, 1px, 1px, 1px);height: 1px;margin: -1px;overflow: hidden;padding: 0;position: absolute;width: 1px;}#sk-container-id-28 div.sk-estimator {font-family: monospace;background-color: #f0f8ff;border: 1px dotted black;border-radius: 0.25em;box-sizing: border-box;margin-bottom: 0.5em;}#sk-container-id-28 div.sk-estimator:hover {background-color: #d4ebff;}#sk-container-id-28 div.sk-parallel-item::after {content: \"\";width: 100%;border-bottom: 1px solid gray;flex-grow: 1;}#sk-container-id-28 div.sk-label:hover label.sk-toggleable__label {background-color: #d4ebff;}#sk-container-id-28 div.sk-serial::before {content: \"\";position: absolute;border-left: 1px solid gray;box-sizing: border-box;top: 0;bottom: 0;left: 50%;z-index: 0;}#sk-container-id-28 div.sk-serial {display: flex;flex-direction: column;align-items: center;background-color: white;padding-right: 0.2em;padding-left: 0.2em;position: relative;}#sk-container-id-28 div.sk-item {position: relative;z-index: 1;}#sk-container-id-28 div.sk-parallel {display: flex;align-items: stretch;justify-content: center;background-color: white;position: relative;}#sk-container-id-28 div.sk-item::before, #sk-container-id-28 div.sk-parallel-item::before {content: \"\";position: absolute;border-left: 1px solid gray;box-sizing: border-box;top: 0;bottom: 0;left: 50%;z-index: -1;}#sk-container-id-28 div.sk-parallel-item {display: flex;flex-direction: column;z-index: 1;position: relative;background-color: white;}#sk-container-id-28 div.sk-parallel-item:first-child::after {align-self: flex-end;width: 50%;}#sk-container-id-28 div.sk-parallel-item:last-child::after {align-self: flex-start;width: 50%;}#sk-container-id-28 div.sk-parallel-item:only-child::after {width: 0;}#sk-container-id-28 div.sk-dashed-wrapped {border: 1px dashed gray;margin: 0 0.4em 0.5em 0.4em;box-sizing: border-box;padding-bottom: 0.4em;background-color: white;}#sk-container-id-28 div.sk-label label {font-family: monospace;font-weight: bold;display: inline-block;line-height: 1.2em;}#sk-container-id-28 div.sk-label-container {text-align: center;}#sk-container-id-28 div.sk-container {/* jupyter's `normalize.less` sets `[hidden] { display: none; }` but bootstrap.min.css set `[hidden] { display: none !important; }` so we also need the `!important` here to be able to override the default hidden behavior on the sphinx rendered scikit-learn.org. See: https://github.com/scikit-learn/scikit-learn/issues/21755 */display: inline-block !important;position: relative;}#sk-container-id-28 div.sk-text-repr-fallback {display: none;}</style><div id=\"sk-container-id-28\" class=\"sk-top-container\"><div class=\"sk-text-repr-fallback\"><pre>Ridge(alpha=10.0)</pre><b>In a Jupyter environment, please rerun this cell to show the HTML representation or trust the notebook. <br />On GitHub, the HTML representation is unable to render, please try loading this page with nbviewer.org.</b></div><div class=\"sk-container\" hidden><div class=\"sk-item\"><div class=\"sk-estimator sk-toggleable\"><input class=\"sk-toggleable__control sk-hidden--visually\" id=\"sk-estimator-id-28\" type=\"checkbox\" checked><label for=\"sk-estimator-id-28\" class=\"sk-toggleable__label sk-toggleable__label-arrow\">Ridge</label><div class=\"sk-toggleable__content\"><pre>Ridge(alpha=10.0)</pre></div></div></div></div></div>"
            ]
          },
          "metadata": {},
          "execution_count": 197
        }
      ]
    },
    {
      "cell_type": "markdown",
      "source": [
        "Get the coefficients of the variables and visualize it."
      ],
      "metadata": {
        "id": "EwXQdOdQ0c4y"
      }
    },
    {
      "cell_type": "code",
      "source": [
        "ridge_coefficients = ridge_regressor.coef_\n",
        "\n",
        "# Visualize the coefficients\n",
        "plt.figure(figsize=(12, 6))\n",
        "plt.bar(range(len(ridge_coefficients)), ridge_coefficients)\n",
        "plt.xlabel('Feature')\n",
        "plt.ylabel('Coefficient')\n",
        "plt.title('Coefficients of Variables in Ridge Regression Model')\n",
        "plt.grid(True)\n",
        "plt.show()"
      ],
      "metadata": {
        "id": "CmVqcA6r0dEe",
        "colab": {
          "base_uri": "https://localhost:8080/",
          "height": 564
        },
        "outputId": "38b9ff6e-4b04-4f37-f2d0-8e29337bf83b"
      },
      "execution_count": 198,
      "outputs": [
        {
          "output_type": "display_data",
          "data": {
            "text/plain": [
              "<Figure size 1200x600 with 1 Axes>"
            ],
            "image/png": "[encoded data removed]"
          },
          "metadata": {}
        }
      ]
    },
    {
      "cell_type": "markdown",
      "source": [
        "Compare the effect on coefficients between L1 and L2 regularization. What are the key differences?\n",
        "\n",
        " How does the regularization parameter influence the magnitude of the coefficients in Ridge Regression?"
      ],
      "metadata": {
        "id": "uc_LYcVZ0dOQ"
      }
    },
    {
      "cell_type": "markdown",
      "source": [
        "        Your answer goes here\n",
        "  \n",
        "  - L1 regularization pushes some coefficients to exactly zero which leads to sparsity and elimination of less important features.\n",
        "\n",
        "  - In L2 regularization, cosfficients are shrinked towards zero, without enforcing the exact value of 0. In this regularization, no feature gets eliminated, instead magnitude of their coffiecient decreases which leads to a smoother and more stable model.\n",
        "\n",
        "  - Based on the previous explanation, L1 regularization usually produces coefficients with varying magnitudes in compare to L2 regularization. Also, the magnitude of coefficients in L2 regularization tends to be less in compare to L1 regularization.\n",
        "\n",
        "  - In L1 regularization, higher alpha causes higher regularization penalty, leading more coefficients to become exactly zero (elimination of more features). Meanwhile, in L2 regularization, higher alpha leads to smaller coefficients without enforcing them toward exactly zero."
      ],
      "metadata": {
        "id": "vz3VZj1H1E5D"
      }
    },
    {
      "cell_type": "markdown",
      "source": [
        "Get the score value on train *dataset*"
      ],
      "metadata": {
        "id": "8-vwV52g1KaB"
      }
    },
    {
      "cell_type": "code",
      "source": [
        "y_pred_train_scaled = ridge_regressor.predict(X_train)\n",
        "r2_train_ridge = r2_score(y_train, y_pred_train_scaled)\n",
        "mse_train_ridge = mean_squared_error(y_train, y_pred_train_scaled)\n",
        "\n",
        "print(\"R² score on training dataset (Ridge):\", r2_train_ridge)\n",
        "print(\"Mean Squared Error (MSE) on training dataset (Ridge):\", mse_train_ridge)"
      ],
      "metadata": {
        "id": "WgrPqaBF0dlc",
        "colab": {
          "base_uri": "https://localhost:8080/"
        },
        "outputId": "c95eeb75-e9db-4b7c-f4df-7fb1461e7342"
      },
      "execution_count": 199,
      "outputs": [
        {
          "output_type": "stream",
          "name": "stdout",
          "text": [
            "R² score on training dataset (Ridge): 0.7816105936679527\n",
            "Mean Squared Error (MSE) on training dataset (Ridge): 18.972231089123802\n"
          ]
        }
      ]
    },
    {
      "cell_type": "markdown",
      "source": [
        "Predict the value of \"y\" for each \"x\" belonging to the \"testing\" set\n",
        "\n"
      ],
      "metadata": {
        "id": "94nftWCR0dtC"
      }
    },
    {
      "cell_type": "code",
      "source": [
        "y_test_pred_ridge = ridge_regressor.predict(X_test)\n",
        "y_test_pred_ridge"
      ],
      "metadata": {
        "id": "ivsbD08X0d1E",
        "colab": {
          "base_uri": "https://localhost:8080/"
        },
        "outputId": "13e1efdb-617e-4bd2-e5a7-75e709749690"
      },
      "execution_count": 200,
      "outputs": [
        {
          "output_type": "execute_result",
          "data": {
            "text/plain": [
              "array([26.64874045, 37.58387034, 19.27657644, 21.94197185, 15.3028101 ,\n",
              "       20.12028532, 19.06550135, 13.09220054, 21.53629599, 19.59853597,\n",
              "       19.98066811, 17.71773856,  7.45618135, 19.4698435 , 17.83085991,\n",
              "       22.41342776, 19.03460611, 10.83733093, 47.87734976, 13.23733086,\n",
              "       25.94978663, 28.67626209, 15.62739061, 20.87266644, 16.88618107,\n",
              "       16.70243714, 18.15202381, 12.99400863, 19.06044753, 19.1619615 ,\n",
              "       18.49185044, 23.96483655, 16.81029968, 24.22140047, 14.71608764,\n",
              "       17.14764076, 33.00621736, 20.36005585, 21.56765845, 22.00579786,\n",
              "       16.87716829, 30.83029389, 52.86535583, 16.40416721, 26.70438602,\n",
              "       16.00962769, 15.37456958, 24.22203195, 18.0413712 , 28.35774744,\n",
              "       18.65466298, 33.07812494, 17.01116837, 25.34703163, 43.22198358,\n",
              "       23.00525594, 14.66623572, 32.34427145, 25.00498764, 14.21572885,\n",
              "       24.95594853, 33.4162596 , 30.78344757, 16.16942493, 25.19231399,\n",
              "       16.02456508, 14.58662856, 24.41159615, 30.32473275, 12.3838725 ,\n",
              "       20.94435871, 27.5999913 , 10.37505112, 21.25995733, 20.86051995,\n",
              "        5.76335445, 20.67914828, 49.65506758, 11.15867412, 13.79119622,\n",
              "       19.12026295, 12.02135127, 17.93987097, 11.65923594, 20.4384127 ,\n",
              "       28.76781807, 17.1877647 , 24.60422767, 25.97635678, 17.98141095,\n",
              "       24.09206253,  7.78768441, 19.1087218 , 18.44960327, 40.68183317,\n",
              "       20.20242572, 24.78475146,  5.72169792, 11.11141082, 13.76203915,\n",
              "       22.7065681 , 21.98512667])"
            ]
          },
          "metadata": {},
          "execution_count": 200
        }
      ]
    },
    {
      "cell_type": "markdown",
      "source": [
        "# Summarization"
      ],
      "metadata": {
        "id": "u6iKDyiwF-2q"
      }
    },
    {
      "cell_type": "markdown",
      "source": [
        "Summarize the performance metrics (e.g., RMSE, R² score) of the basic regression model, Lasso regression, and Ridge regression in a table for easy comparison.(On both test and train data)</br>\n",
        "if you are not familiar with R-squared concept see the link below:\n",
        "[R-squared](https://statisticsbyjim.com/regression/interpret-r-squared-regression/)\n"
      ],
      "metadata": {
        "id": "gY7NOCfB0d9K"
      }
    },
    {
      "cell_type": "code",
      "source": [
        "# HINT: Use DataFrame tools\n",
        "mse_test_linear = mean_squared_error(y_test, linear_regressor.predict(X_test))\n",
        "r2_test_linear = linear_regressor.score(X_test, y_test)\n",
        "\n",
        "mse_test_lasso = mean_squared_error(y_test, lasso_regressor.predict(X_test))\n",
        "r2_test_lasso = lasso_regressor.score(X_test, y_test)\n",
        "\n",
        "mse_test_ridge = mean_squared_error(y_test, ridge_regressor.predict(X_test))\n",
        "r2_test_ridge = ridge_regressor.score(X_test, y_test)\n",
        "\n",
        "summarized_data = {\n",
        "    'Model': ['Linear Regression', 'Lasso Regression', 'Ridge Regression'],\n",
        "    'Train R² Score': [r2_train_linear, r2_train_lasso, r2_train_ridge],\n",
        "    'Test R² Score': [r2_test_linear, r2_test_lasso, r2_test_ridge],\n",
        "    'Train MSE': [mse_train_linear, mse_train_lasso, mse_train_ridge],\n",
        "    'Test MSE': [mse_test_linear, mse_test_lasso, mse_test_ridge]\n",
        "}\n",
        "\n",
        "df_summary = pd.DataFrame(summarized_data)\n",
        "print(df_summary)"
      ],
      "metadata": {
        "id": "3gI-6r2r0eEx",
        "colab": {
          "base_uri": "https://localhost:8080/"
        },
        "outputId": "baf33949-cce6-4ee8-e9ab-a6be5833e3af"
      },
      "execution_count": 201,
      "outputs": [
        {
          "output_type": "stream",
          "name": "stdout",
          "text": [
            "               Model  Train R² Score  Test R² Score  Train MSE   Test MSE\n",
            "0  Linear Regression        0.923362       0.752882   6.657839  18.122077\n",
            "1   Lasso Regression        0.817129       0.778718  15.886655  16.227427\n",
            "2   Ridge Regression        0.781611       0.793955  18.972231  15.110037\n"
          ]
        }
      ]
    },
    {
      "cell_type": "markdown",
      "source": [
        " *Which model performed best on the test data?</br>\n",
        "Why the results on train data are different? </br>\n",
        "Discuss why this might be the case.*"
      ],
      "metadata": {
        "id": "dB2x-l231Soo"
      }
    },
    {
      "cell_type": "markdown",
      "source": [
        "          your answer goes here."
      ],
      "metadata": {
        "id": "dRIs24F91SsH"
      }
    },
    {
      "cell_type": "markdown",
      "source": [
        " - The Ridge Regression model performed best on the test data, achieving the minimum MSE and maximum R² score.\n",
        "\n",
        "- On train data, Linear Regression model shows the best performance with highest R² score and lowest MSE. However, when it comes to test data, it shows a worse performance in compare to other methods, which shows that the Linear Regression model overfitted on the training data.\n",
        "\n",
        "- On the other hand, we can observe that Lasso Regression model and Ridge regression model have better performance on test data in compare to Linear Regression model, which show that they support better generalization on unseen data. In other words, these models trade off some training performance for better generalization.\n",
        "        \n",
        "- Another parameter in performance of Lasso regularization and Ridge regularization is the alpha. Higher value of alpha leads to a stronger regularization. In L1 regularization a higher alpha causes sparser models and in L2 regularization a higher alpha makes the penalty on the square of coefficients more significant. In both techniques, a higher alpha leads to a simpler model which has better generalization but may lead to underfitting of the model."
      ],
      "metadata": {
        "id": "BP9qrnc_j-dw"
      }
    }
  ]
}