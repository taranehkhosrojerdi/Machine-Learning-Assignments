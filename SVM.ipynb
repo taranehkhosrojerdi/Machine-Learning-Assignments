{
 "cells": [
  {
   "cell_type": "markdown",
   "metadata": {},
   "source": [
    "<img src=\"./sharif.png\" alt=\"SUT logo\" width=300 height=300 align=left class=\"saturate\">\n",
    "\n",
    "<br>\n",
    "<font>\n",
    "<div dir=ltr align=center>\n",
    "<font color=0F5298 size=7>\n",
    "    Machine Learning <br>\n",
    "<font color=2565AE size=5>\n",
    "    Computer Engineering Department <br>\n",
    "    Spring 2024<br>\n",
    "<font color=3C99D size=5>\n",
    "    Practical Assignment 3<br>\n",
    "<font color=696880 size=4>\n",
    "    Ashkan Majidi - Shayan Salehi - Amirhossein Alamdar\n",
    "\n",
    "____"
   ]
  },
  {
   "cell_type": "markdown",
   "metadata": {},
   "source": [
    "# Personal Data"
   ]
  },
  {
   "cell_type": "code",
   "execution_count": 1,
   "metadata": {},
   "outputs": [],
   "source": [
    "student_number = '400104929'\n",
    "first_name = 'Taraneh'\n",
    "last_name = 'Khosrojerdi'"
   ]
  },
  {
   "cell_type": "markdown",
   "metadata": {},
   "source": [
    "# Introduction\n",
    "\n",
    "In this assignment, you will implement SVM (Support Vector Machines) for classification.\n"
   ]
  },
  {
   "cell_type": "markdown",
   "metadata": {},
   "source": [
    "# Data Prepfocessing"
   ]
  },
  {
   "cell_type": "markdown",
   "metadata": {},
   "source": [
    "Import your needed libraries in following cell."
   ]
  },
  {
   "cell_type": "code",
   "execution_count": 1,
   "metadata": {},
   "outputs": [],
   "source": [
    "# TODO: Write your code here\n",
    "import pandas as pd\n",
    "import numpy as np\n",
    "from sklearn.model_selection import train_test_split\n",
    "from sklearn.preprocessing import StandardScaler\n",
    "from cvxopt import matrix, solvers\n",
    "import matplotlib.pyplot as plt\n",
    "import seaborn as sns\n",
    "from sklearn.metrics import accuracy_score, balanced_accuracy_score, confusion_matrix"
   ]
  },
  {
   "cell_type": "markdown",
   "metadata": {},
   "source": [
    "Load data from ```satimage``` dataset and split data to features and labels. The ```label``` column is our target variable. "
   ]
  },
  {
   "cell_type": "code",
   "execution_count": 2,
   "metadata": {},
   "outputs": [],
   "source": [
    "# TODO: Write your code here\n",
    "data = pd.read_csv('./Data/satimage.csv')\n",
    "features = data.drop('label', axis=1)\n",
    "labels = data['label']"
   ]
  },
  {
   "cell_type": "markdown",
   "metadata": {},
   "source": [
    "Now split data to train, validation and test parts. 60% of data should be used for train, 15% for validation and 25% for test. After that scale the data to Standard Normal Distribution using ```StandardScaler``` class from ```scikit-learn``` library."
   ]
  },
  {
   "cell_type": "code",
   "execution_count": 3,
   "metadata": {},
   "outputs": [],
   "source": [
    "# TODO: Write your code here\n",
    "X_train, X_test, y_train, y_test = train_test_split(features, labels, test_size=0.4, random_state=42)\n",
    "\n",
    "X_val, X_test, y_val, y_test = train_test_split(X_test, y_test, test_size=0.625, random_state=42)\n",
    "\n",
    "scaler = StandardScaler()\n",
    "\n",
    "X_train = scaler.fit_transform(X_train)\n",
    "X_val = scaler.transform(X_val)\n",
    "X_test = scaler.transform(X_test)"
   ]
  },
  {
   "cell_type": "markdown",
   "metadata": {},
   "source": [
    "We want to train Binary SVM model for classification between labels 4 and 6. Choose corresponding datas and convert their lables to 1 and -1 respectively for 4 and 6."
   ]
  },
  {
   "cell_type": "code",
   "execution_count": 4,
   "metadata": {},
   "outputs": [],
   "source": [
    "# TODO: Write your code here\n",
    "complete_X_train = X_train.copy()\n",
    "complete_y_train = y_train.copy()\n",
    "complete_X_val = X_val.copy()\n",
    "complete_y_val = y_val.copy()\n",
    "complete_X_test = X_test.copy()\n",
    "complete_y_test = y_test.copy()\n",
    "\n",
    "train_mask = np.logical_or(y_train == 4, y_train == 6)\n",
    "X_train = X_train[train_mask]\n",
    "y_train = y_train[train_mask]\n",
    "\n",
    "val_mask = np.logical_or(y_val == 4, y_val == 6)\n",
    "X_val = X_val[val_mask]\n",
    "y_val = y_val[val_mask]\n",
    "\n",
    "test_mask = np.logical_or(y_test == 4, y_test == 6)\n",
    "X_test = X_test[test_mask]\n",
    "y_test = y_test[test_mask]\n",
    "\n",
    "y_train[y_train == 4] = 1\n",
    "y_train[y_train == 6] = -1\n",
    "\n",
    "y_val[y_val == 4] = 1\n",
    "y_val[y_val == 6] = -1\n",
    "\n",
    "y_test[y_test == 4] = 1\n",
    "y_test[y_test == 6] = -1\n"
   ]
  },
  {
   "cell_type": "markdown",
   "metadata": {},
   "source": [
    "# Model (50 points)"
   ]
  },
  {
   "cell_type": "markdown",
   "metadata": {},
   "source": [
    "Here is soft margin svm convex optimization formulation. \n",
    "$$\n",
    "\\begin{aligned}\n",
    "\\text { Minimize } & \\frac{1}{2}\\|\\mathbf{w}\\|^2+C \\sum_{i=1}^N \\xi_i \\\\\n",
    "\\text { Subject to } & y_i\\left(\\mathbf{w}^T \\mathbf{x}_i+b\\right) \\geq 1-\\xi_i, \\quad i=1,2, \\ldots, N \\\\\n",
    "& \\xi_i \\geq 0, \\quad i=1,2, \\ldots, N\n",
    "\\end{aligned}\n",
    "$$\n",
    "write dual of the soft margin svm optimization problem below:"
   ]
  },
  {
   "cell_type": "markdown",
   "metadata": {},
   "source": [
    "`TODO: Write Here`\n",
    "$$\n",
    "\\begin{aligned}\n",
    "\\text { Maximize } & \\sum_{i=1}^N \\alpha_i - \\frac{1}{2} \\sum_{i=1}^N \\sum_{j=1}^N \\alpha_i\\alpha_j y_i y_j {x_i}^T x_j\\\\\n",
    "\\text { Subject to } & \\sum_{i=1}^{N}\\alpha_iy_i = 0 \\quad \\text{and} \\quad 0 \\leq \\alpha_i \\leq C \\quad \\text{for } i=1,2,...,N\n",
    "\n",
    "\\end{aligned}\n",
    "$$"
   ]
  },
  {
   "cell_type": "markdown",
   "metadata": {},
   "source": [
    "Now you should write this optimization problem in standard Quadratic Program (QP) form and use a QP solver to find optimal answer. Here is General form of a QP:\n",
    "$$\n",
    "\\begin{aligned}\n",
    "\\text { Minimize } & \\frac{1}{2} x^TPx + q^Tx + r \\\\\n",
    "\\text { Subject to } & Gx \\leq h \\\\\n",
    "& Ax = b\n",
    "\\end{aligned}\n",
    "$$\n",
    "\n",
    "Complete functions below and use ```cvxopt``` library which is a common library for solving QPs. Note that you can't use ```scikit-learn``` library.\n"
   ]
  },
  {
   "cell_type": "code",
   "execution_count": 5,
   "metadata": {},
   "outputs": [],
   "source": [
    "def soft_margin_svm(X, y, C):\n",
    "    \"\"\"\n",
    "    input:\n",
    "        X: training data\n",
    "        y: training labels\n",
    "        C: errors weight\n",
    "    output:\n",
    "        support_vectors: data points which are SVs of our model.\n",
    "        support_vector_labels: labels of SVs\n",
    "        support_vector_alphas: alpha coefficient of corresponding SVs \n",
    "    \"\"\"\n",
    "\n",
    "    n_samples, n_features = X.shape\n",
    "\n",
    "    y = np.array(y).reshape(-1, 1)\n",
    "\n",
    "    K = np.dot(X, X.T)\n",
    "    P = matrix((np.outer(y, y) * K).astype(float))\n",
    "\n",
    "    q = matrix((-np.ones((n_samples, 1))).astype(float))\n",
    "    G = matrix((np.vstack((np.eye(n_samples) * (-1), np.eye(n_samples)))).astype(float))\n",
    "    h = matrix((np.hstack((np.zeros(n_samples), np.ones(n_samples) * C))).astype(float))\n",
    "    A = matrix((y.reshape(1, -1)).astype(float))\n",
    "    b = matrix(np.array([0.0]))\n",
    "\n",
    "    solution = solvers.qp(P, q, G, h, A, b)\n",
    "\n",
    "    alphas = np.array(solution['x'])\n",
    "    sv = (alphas > 1e-4).flatten()\n",
    "\n",
    "    support_vectors = X[sv]\n",
    "    support_vector_labels = y[sv]\n",
    "    support_vector_alphas = alphas[sv]\n",
    "\n",
    "    return support_vectors, support_vector_labels, support_vector_alphas\n"
   ]
  },
  {
   "cell_type": "code",
   "execution_count": 6,
   "metadata": {},
   "outputs": [
    {
     "name": "stdout",
     "output_type": "stream",
     "text": [
      "     pcost       dcost       gap    pres   dres\n",
      " 0: -6.1265e+02 -3.3971e+03  2e+04  3e+00  2e-13\n",
      " 1: -4.1824e+02 -2.2816e+03  3e+03  3e-01  1e-13\n",
      " 2: -3.9732e+02 -7.6474e+02  4e+02  3e-02  9e-14\n",
      " 3: -4.4111e+02 -5.8227e+02  2e+02  9e-03  9e-14\n",
      " 4: -4.6125e+02 -5.3708e+02  8e+01  4e-03  9e-14\n",
      " 5: -4.7293e+02 -5.1305e+02  4e+01  2e-03  9e-14\n",
      " 6: -4.7763e+02 -5.0407e+02  3e+01  1e-03  9e-14\n",
      " 7: -4.8272e+02 -4.9477e+02  1e+01  4e-04  1e-13\n",
      " 8: -4.8534e+02 -4.9054e+02  5e+00  2e-04  1e-13\n",
      " 9: -4.8671e+02 -4.8840e+02  2e+00  4e-05  1e-13\n",
      "10: -4.8718e+02 -4.8773e+02  6e-01  7e-06  1e-13\n",
      "11: -4.8738e+02 -4.8747e+02  9e-02  4e-07  1e-13\n",
      "12: -4.8742e+02 -4.8743e+02  7e-03  3e-08  1e-13\n",
      "13: -4.8742e+02 -4.8742e+02  2e-04  6e-10  1e-13\n",
      "Optimal solution found.\n"
     ]
    }
   ],
   "source": [
    "C = 1.0\n",
    "support_vectors, support_vector_labels, support_vector_alphas = soft_margin_svm(X_train, y_train, C)"
   ]
  },
  {
   "cell_type": "code",
   "execution_count": 7,
   "metadata": {},
   "outputs": [],
   "source": [
    "def predict_labels(x_test, support_vectors, support_vector_labels, support_vector_alphas, C=1, gamma=1):\n",
    "    \"\"\"\n",
    "    input:\n",
    "        x_test: test data\n",
    "        support_vectros: data points which are SVs of our model.\n",
    "        support_vector_labels: labels of SVs\n",
    "        support_vector_alphas: alpha coefficient of corresponding SVs \n",
    "    output:\n",
    "        y_pred: predictoin labels\n",
    "    \"\"\"\n",
    "    \n",
    "    # TODO: Write your code here\n",
    "    support_vectors = np.array(support_vectors)\n",
    "    N = len(support_vector_alphas)\n",
    "    \n",
    "    w = sum(support_vector_alphas[i] * support_vector_labels[i] * support_vectors[i] for i in range(N))\n",
    "    \n",
    "    sample = None\n",
    "    for i, s in enumerate(support_vectors):\n",
    "        if 0 < support_vector_alphas[i] < C:\n",
    "            sample = (i, s)\n",
    "            break\n",
    "    \n",
    "    w0 = (1 / support_vector_labels[sample[0]]) - (np.dot(w, sample[1]))\n",
    "    \n",
    "    y_pred = []\n",
    "    x_test = np.array(x_test)\n",
    "    for x in x_test:\n",
    "        prediction = w0 + np.dot(w, x)\n",
    "        y_pred.append(np.sign(prediction))\n",
    "    \n",
    "    return y_pred\n",
    "        "
   ]
  },
  {
   "cell_type": "code",
   "execution_count": 8,
   "metadata": {},
   "outputs": [],
   "source": [
    "y_pred = predict_labels(X_test, support_vectors, support_vector_labels, support_vector_alphas)"
   ]
  },
  {
   "cell_type": "markdown",
   "metadata": {},
   "source": [
    "# Evaluation (20 points)"
   ]
  },
  {
   "cell_type": "markdown",
   "metadata": {},
   "source": [
    "Compute accuracy, balanced accuracy and plot confusion matrix of your trained model using ```Seaborn.heatmap()``` function. Use case of balanced accuracy is when dealing with imbalanced data, i.e. when one of the target classes appears a lot more than the other and it is defined by average of recall of classes. Confusion matrix is a $k\\times k$ (k is number of classes) matrix which cell ij is showing that number of data points labeld i which predicted j. For more detail of evaluation metrics you can see [here](https://neptune.ai/blog/balanced-accuracy).\n",
    "\n",
    "You may use ```scikit-learn``` library to compute these metrics."
   ]
  },
  {
   "cell_type": "code",
   "execution_count": 10,
   "metadata": {},
   "outputs": [
    {
     "name": "stdout",
     "output_type": "stream",
     "text": [
      "Accuracy:  0.7565055762081785\n",
      "Balanced Accuracy:  0.8136191358544597\n",
      "Confusion Matrix:\n",
      " [[260 123]\n",
      " [  8 147]]\n"
     ]
    }
   ],
   "source": [
    "def evaluate(y_test, y_pred):\n",
    "    \"\"\"\n",
    "    input:\n",
    "        y_test: true labels\n",
    "        y_pred: predicted labels\n",
    "    output:\n",
    "        accuracy: accuracy of the model\n",
    "        balanced_accuracy: balanced accuracy of the model\n",
    "        confusion_matrix: confusion matrix of the model\n",
    "    \"\"\"\n",
    "    # TODO: Write your code here\n",
    "\n",
    "    accuracy = accuracy_score(y_test, y_pred)\n",
    "    balanced_accuracy = balanced_accuracy_score(y_test, y_pred)\n",
    "    confusion_mat = confusion_matrix(y_test, y_pred)\n",
    "\n",
    "    print(\"Accuracy: \", accuracy)\n",
    "    print(\"Balanced Accuracy: \", balanced_accuracy)\n",
    "    print(\"Confusion Matrix:\\n\", confusion_mat)\n",
    "    \n",
    "    return accuracy, balanced_accuracy, confusion_mat\n",
    "\n",
    "\n",
    "_, _, confusion_mat = evaluate(y_test, y_pred)"
   ]
  },
  {
   "cell_type": "code",
   "execution_count": 11,
   "metadata": {},
   "outputs": [
    {
     "data": {
      "text/plain": [
       "<Axes: >"
      ]
     },
     "execution_count": 11,
     "metadata": {},
     "output_type": "execute_result"
    },
    {
     "data": {
      "image/png": "[encoded data removed]",
      "text/plain": [
       "<Figure size 640x480 with 2 Axes>"
      ]
     },
     "metadata": {},
     "output_type": "display_data"
    }
   ],
   "source": [
    "cm_matrix = pd.DataFrame(data=confusion_mat, columns=['Predict Negative:-1', 'Predict Positive:1'],\n",
    "                                 index=['Actual Negative:-1', 'Actual Positive:1'])\n",
    "\n",
    "sns.heatmap(cm_matrix, annot=True, fmt='d', cmap='mako')"
   ]
  },
  {
   "cell_type": "markdown",
   "metadata": {},
   "source": [
    "# Fine-tunning (40 points)"
   ]
  },
  {
   "cell_type": "markdown",
   "metadata": {},
   "source": [
    "like what you did before, implement Soft Margin SVM but now use rbf kernel. To determine rbf $\\gamma$ parameter use validation datas and find best(best by balanced accuracy) $\\gamma$ between 0.001 , 0.01, 1, 10, 100. Not that you can't use ```scikit-learn``` library here."
   ]
  },
  {
   "cell_type": "code",
   "execution_count": 11,
   "metadata": {},
   "outputs": [],
   "source": [
    "def rbf(x1, x2, gamma=1):\n",
    "    \"\"\"\n",
    "    input:\n",
    "        x1: first vector\n",
    "        x2: second vector\n",
    "        gamma: rbf kernel parameter with defalt value 1.\n",
    "    output:\n",
    "        ouput: computed rbf of two input vectors\n",
    "    \"\"\"\n",
    "    # TODO: Write your code here\n",
    "    output = np.exp(-gamma * np.dot((x1 - x2), (x1 - x2)))\n",
    "    return output\n",
    "\n",
    "def soft_margin_svm(X, y, C, gamma=1):\n",
    "    \"\"\"\n",
    "    input:\n",
    "        X: training data\n",
    "        y: training labels\n",
    "        C: errors weight\n",
    "        gamma: rbf kernel parameter with defalt value 1.\n",
    "    output:\n",
    "        support_vectros: data points which are SVs of our model.\n",
    "        support_vector_labels: labels of SVs\n",
    "        support_vector_alphas: alpha coefficient of corresponding SVs \n",
    "    \"\"\"\n",
    "\n",
    "    # TODO: Write your code here\n",
    "\n",
    "    n_samples, n_features = X.shape\n",
    "\n",
    "    y = np.array(y).reshape(-1, 1)\n",
    "\n",
    "    K = np.zeros((n_samples, n_samples))\n",
    "    for i in range(n_samples):\n",
    "        for j in range(n_samples):\n",
    "            K[i, j] = rbf(X[i], X[j], gamma)\n",
    "\n",
    "    P = matrix((np.outer(y, y) * K).astype(float))\n",
    "\n",
    "    q = matrix((-np.ones((n_samples, 1))).astype(float))\n",
    "    G = matrix((np.vstack((np.eye(n_samples) * (-1), np.eye(n_samples)))).astype(float))\n",
    "    h = matrix((np.hstack((np.zeros(n_samples), np.ones(n_samples) * C))).astype(float))\n",
    "    A = matrix((y.reshape(1, -1)).astype(float))\n",
    "    b = matrix(np.array([0.0]))\n",
    "\n",
    "    solution = solvers.qp(P, q, G, h, A, b)\n",
    "\n",
    "    alphas = np.array(solution['x'])\n",
    "    sv = (alphas > 1e-4).flatten()\n",
    "\n",
    "    support_vectors = X[sv]\n",
    "    support_vector_labels = y[sv]\n",
    "    support_vector_alphas = alphas[sv]\n",
    "\n",
    "    return support_vectors, support_vector_labels, support_vector_alphas"
   ]
  },
  {
   "cell_type": "code",
   "execution_count": 12,
   "metadata": {},
   "outputs": [
    {
     "name": "stdout",
     "output_type": "stream",
     "text": [
      "     pcost       dcost       gap    pres   dres\n",
      " 0: -5.7870e+02 -3.1897e+03  2e+04  3e+00  1e-14\n",
      " 1: -4.0863e+02 -2.0634e+03  2e+03  2e-01  1e-14\n",
      " 2: -4.2109e+02 -6.8997e+02  3e+02  2e-02  9e-15\n",
      " 3: -4.6476e+02 -5.9584e+02  1e+02  8e-03  9e-15\n",
      " 4: -4.8769e+02 -5.5091e+02  7e+01  3e-03  9e-15\n",
      " 5: -4.9596e+02 -5.3660e+02  4e+01  2e-03  9e-15\n",
      " 6: -5.0371e+02 -5.2370e+02  2e+01  8e-04  9e-15\n",
      " 7: -5.0860e+02 -5.1604e+02  8e+00  2e-04  1e-14\n",
      " 8: -5.1083e+02 -5.1270e+02  2e+00  4e-05  1e-14\n",
      " 9: -5.1160e+02 -5.1168e+02  8e-02  4e-07  1e-14\n",
      "10: -5.1164e+02 -5.1164e+02  6e-03  1e-08  1e-14\n",
      "11: -5.1164e+02 -5.1164e+02  3e-04  6e-10  1e-14\n",
      "Optimal solution found.\n",
      "     pcost       dcost       gap    pres   dres\n",
      " 0: -3.5478e+02 -2.9645e+03  1e+04  3e+00  4e-15\n",
      " 1: -2.5774e+02 -1.8143e+03  2e+03  1e-01  4e-15\n",
      " 2: -2.7515e+02 -5.5668e+02  3e+02  2e-02  3e-15\n",
      " 3: -3.1035e+02 -4.0746e+02  1e+02  5e-03  3e-15\n",
      " 4: -3.2161e+02 -3.7676e+02  6e+01  2e-03  3e-15\n",
      " 5: -3.3186e+02 -3.4879e+02  2e+01  3e-04  4e-15\n",
      " 6: -3.3455e+02 -3.4305e+02  9e+00  1e-04  4e-15\n",
      " 7: -3.3586e+02 -3.4016e+02  4e+00  8e-15  4e-15\n",
      " 8: -3.3717e+02 -3.3810e+02  9e-01  1e-14  4e-15\n",
      " 9: -3.3735e+02 -3.3781e+02  5e-01  5e-15  4e-15\n",
      "10: -3.3755e+02 -3.3756e+02  2e-02  4e-15  4e-15\n",
      "11: -3.3755e+02 -3.3755e+02  5e-04  2e-14  4e-15\n",
      "12: -3.3755e+02 -3.3755e+02  8e-06  2e-14  4e-15\n",
      "Optimal solution found.\n",
      "     pcost       dcost       gap    pres   dres\n",
      " 0: -2.4269e+02 -2.1635e+03  7e+03  2e+00  1e-15\n",
      " 1: -2.2042e+02 -1.1878e+03  1e+03  1e-01  5e-16\n",
      " 2: -2.4012e+02 -3.8481e+02  2e+02  1e-02  6e-16\n",
      " 3: -2.5620e+02 -2.8744e+02  3e+01  2e-03  4e-16\n",
      " 4: -2.6083e+02 -2.6656e+02  6e+00  2e-04  3e-16\n",
      " 5: -2.6182e+02 -2.6335e+02  2e+00  4e-05  2e-16\n",
      " 6: -2.6212e+02 -2.6241e+02  3e-01  4e-06  3e-16\n",
      " 7: -2.6218e+02 -2.6221e+02  3e-02  3e-07  2e-16\n",
      " 8: -2.6219e+02 -2.6219e+02  1e-03  9e-09  3e-16\n",
      " 9: -2.6219e+02 -2.6219e+02  3e-05  2e-10  3e-16\n",
      "Optimal solution found.\n",
      "     pcost       dcost       gap    pres   dres\n",
      " 0: -4.6315e+02 -2.1251e+03  2e+03  8e-14  6e-16\n",
      " 1: -4.6963e+02 -5.0646e+02  4e+01  2e-14  4e-16\n",
      " 2: -4.7538e+02 -4.7581e+02  4e-01  9e-15  2e-16\n",
      " 3: -4.7545e+02 -4.7546e+02  4e-03  1e-14  1e-16\n",
      " 4: -4.7546e+02 -4.7546e+02  4e-05  4e-15  1e-16\n",
      "Optimal solution found.\n",
      "     pcost       dcost       gap    pres   dres\n",
      " 0: -4.6331e+02 -2.1253e+03  2e+03  1e-13  2e-16\n",
      " 1: -4.6978e+02 -5.0577e+02  4e+01  2e-13  1e-16\n",
      " 2: -4.7552e+02 -4.7591e+02  4e-01  4e-14  4e-17\n",
      " 3: -4.7559e+02 -4.7559e+02  4e-03  9e-14  4e-17\n",
      " 4: -4.7559e+02 -4.7559e+02  4e-05  4e-14  1e-16\n",
      "Optimal solution found.\n",
      "0.1\n"
     ]
    }
   ],
   "source": [
    "gammas = [0.01, 0.1, 1, 10, 100]\n",
    "best_gamma = None\n",
    "best_support_vectors = None\n",
    "best_support_vector_labels = None\n",
    "best_support_vector_alphas = None\n",
    "\n",
    "# TODO: Write your code here\n",
    "best_balanced_accuracy = -1\n",
    "for gamma in gammas:\n",
    "    support_vectors, support_vector_labels, support_vector_alphas = soft_margin_svm(X_train, y_train, C, gamma)\n",
    "    y_val_pred = predict_labels(X_val, support_vectors, support_vector_labels, support_vector_alphas, C, gamma)\n",
    "    balanced_accuracy = balanced_accuracy_score(y_val, y_val_pred)\n",
    "    if balanced_accuracy > best_balanced_accuracy:\n",
    "        best_balanced_accuracy = balanced_accuracy\n",
    "        best_gamma = gamma\n",
    "        best_support_vectors = support_vectors\n",
    "        best_support_vector_labels = support_vector_labels\n",
    "        best_support_vector_alphas = support_vector_alphas\n",
    "\n",
    "print(best_gamma)"
   ]
  },
  {
   "cell_type": "code",
   "execution_count": 14,
   "metadata": {},
   "outputs": [
    {
     "name": "stdout",
     "output_type": "stream",
     "text": [
      "Accuracy:  0.8066914498141264\n",
      "Balanced Accuracy:  0.7432493893708414\n",
      "Confusion Matrix:\n",
      " [[342  41]\n",
      " [ 63  92]]\n"
     ]
    }
   ],
   "source": [
    "y_pred = predict_labels(np.array(X_test), best_support_vectors, best_support_vector_labels, best_support_vector_alphas)\n",
    "_, _, confusion_mat = evaluate(y_test, y_pred)"
   ]
  },
  {
   "cell_type": "markdown",
   "metadata": {},
   "source": [
    "# Multiclass SVM (30 points + 50 points optional)"
   ]
  },
  {
   "cell_type": "markdown",
   "metadata": {},
   "source": [
    "Now we want implement Multiclass SVM. Use ```SVC``` function with rbf kernel from ```scikit-learn``` package on all train datas (all six classes) and choose best hyperparameters for $C$ and $\\gamma$ between 0.01, 0.1, 1, 10, 100. After that evaluate it with your function.\n",
    "\n",
    "Note that in this example we had enough data to split them in train and validation but in case that we don't have enough data, ```scikit-learn``` has a built-in fast library named ```GridSearchCV()``` which can help us in hyperparameter tunning with cross validation."
   ]
  },
  {
   "cell_type": "code",
   "execution_count": 15,
   "metadata": {},
   "outputs": [
    {
     "name": "stdout",
     "output_type": "stream",
     "text": [
      "Best C: 10\n",
      "Best Gamma: 0.1\n",
      "Accuracy:  0.9092604101926662\n",
      "Balanced Accuracy:  0.8880046622293033\n",
      "Confusion Matrix:\n",
      " [[352   0   1   0   2   0]\n",
      " [  0 183   1   0   3   2]\n",
      " [  3   0 322  12   0   5]\n",
      " [  3   4  31  94   3  20]\n",
      " [  1   1   1   1 173   8]\n",
      " [  0   0   8  31   5 339]]\n"
     ]
    }
   ],
   "source": [
    "from sklearn.svm import SVC\n",
    "from sklearn.model_selection import GridSearchCV\n",
    "\n",
    "Cs = [0.01, 0.1, 1, 10, 100]\n",
    "gammas = [0.01, 0.1, 1, 10, 100]\n",
    "# TODO: Write your code here\n",
    "\n",
    "param_grid = {'C': Cs, 'gamma' : gammas}\n",
    "grid_search = GridSearchCV(SVC(kernel='rbf'), param_grid, cv=5)\n",
    "grid_search.fit(complete_X_train, complete_y_train)\n",
    "\n",
    "best_C = grid_search.best_params_['C']\n",
    "best_gamma = grid_search.best_params_['gamma']\n",
    "\n",
    "print(\"Best C:\", best_C)\n",
    "print(\"Best Gamma:\", best_gamma)\n",
    "\n",
    "best_model = SVC(kernel='rbf', C=best_C, gamma=best_gamma)\n",
    "best_model.fit(complete_X_train, complete_y_train)\n",
    "\n",
    "y_test_pred = best_model.predict(complete_X_test)\n",
    "_, _, confusion_mat = evaluate(complete_y_test, y_test_pred)"
   ]
  },
  {
   "cell_type": "code",
   "execution_count": 20,
   "metadata": {},
   "outputs": [],
   "source": [
    "def decision_function(x_test, support_vectors, support_vector_labels, support_vector_alphas, C=10, gamma=0.1):\n",
    "    support_vectors = np.array(support_vectors)\n",
    "    w0 = 0\n",
    "    for i, alpha in enumerate(support_vector_alphas):\n",
    "        w0 += alpha * support_vector_labels[i] * rbf(x_test, support_vectors[i], gamma)\n",
    "    score = w0\n",
    "    \n",
    "    return score "
   ]
  },
  {
   "cell_type": "markdown",
   "metadata": {},
   "source": [
    "Implement Multiclass SVM from scratch without using ready functions (optional)."
   ]
  },
  {
   "cell_type": "code",
   "execution_count": 21,
   "metadata": {},
   "outputs": [
    {
     "name": "stderr",
     "output_type": "stream",
     "text": [
      "  0%|          | 0/6 [00:00<?, ?it/s]"
     ]
    },
    {
     "name": "stdout",
     "output_type": "stream",
     "text": [
      "     pcost       dcost       gap    pres   dres\n",
      " 0:  1.3434e+03 -1.0449e+05  2e+05  3e-01  8e-15\n",
      " 1:  1.3725e+03 -1.3580e+04  2e+04  2e-02  9e-15\n",
      " 2:  5.0412e+02 -4.4235e+03  6e+03  5e-03  9e-15\n",
      " 3:  7.6926e+01 -1.7462e+03  2e+03  1e-03  7e-15\n",
      " 4: -9.0500e+01 -9.4622e+02  9e+02  5e-04  6e-15\n",
      " 5: -1.6939e+02 -5.8260e+02  4e+02  2e-04  5e-15\n",
      " 6: -2.0848e+02 -4.1907e+02  2e+02  1e-15  6e-15\n",
      " 7: -2.3130e+02 -3.3288e+02  1e+02  8e-15  5e-15\n",
      " 8: -2.4420e+02 -2.9045e+02  5e+01  2e-14  6e-15\n",
      " 9: -2.5248e+02 -2.6703e+02  1e+01  2e-14  6e-15\n",
      "10: -2.5482e+02 -2.6158e+02  7e+00  1e-14  6e-15\n",
      "11: -2.5606e+02 -2.5896e+02  3e+00  1e-14  7e-15\n",
      "12: -2.5629e+02 -2.5859e+02  2e+00  6e-15  6e-15\n",
      "13: -2.5690e+02 -2.5765e+02  8e-01  2e-14  6e-15\n",
      "14: -2.5714e+02 -2.5729e+02  1e-01  2e-14  6e-15\n",
      "15: -2.5720e+02 -2.5722e+02  2e-02  1e-15  6e-15\n",
      "16: -2.5721e+02 -2.5721e+02  2e-03  2e-14  6e-15\n"
     ]
    },
    {
     "name": "stderr",
     "output_type": "stream",
     "text": [
      " 17%|█▋        | 1/6 [03:43<18:35, 223.09s/it]"
     ]
    },
    {
     "name": "stdout",
     "output_type": "stream",
     "text": [
      "17: -2.5721e+02 -2.5721e+02  5e-05  6e-15  6e-15\n",
      "Optimal solution found.\n",
      "     pcost       dcost       gap    pres   dres\n",
      " 0:  1.6219e+03 -8.0317e+04  2e+05  3e-01  5e-15\n",
      " 1:  1.1623e+03 -7.4002e+03  1e+04  1e-02  5e-15\n",
      " 2:  4.0985e+02 -2.1897e+03  3e+03  2e-03  6e-15\n",
      " 3:  1.1872e+02 -9.6418e+02  1e+03  6e-04  5e-15\n",
      " 4: -2.5176e+01 -3.6451e+02  3e+02  1e-05  4e-15\n",
      " 5: -6.5955e+01 -2.0596e+02  1e+02  4e-06  3e-15\n",
      " 6: -8.4316e+01 -1.3332e+02  5e+01  4e-07  2e-15\n",
      " 7: -9.0268e+01 -1.1296e+02  2e+01  3e-15  2e-15\n",
      " 8: -9.2454e+01 -1.0598e+02  1e+01  5e-15  2e-15\n",
      " 9: -9.4368e+01 -9.9923e+01  6e+00  2e-15  2e-15\n",
      "10: -9.5246e+01 -9.7643e+01  2e+00  5e-15  2e-15\n",
      "11: -9.5738e+01 -9.6636e+01  9e-01  7e-15  2e-15\n",
      "12: -9.5954e+01 -9.6264e+01  3e-01  1e-14  2e-15\n",
      "13: -9.6073e+01 -9.6100e+01  3e-02  2e-14  2e-15\n",
      "14: -9.6085e+01 -9.6086e+01  6e-04  1e-14  2e-15\n"
     ]
    },
    {
     "name": "stderr",
     "output_type": "stream",
     "text": [
      " 33%|███▎      | 2/6 [08:11<16:39, 249.98s/it]"
     ]
    },
    {
     "name": "stdout",
     "output_type": "stream",
     "text": [
      "15: -9.6085e+01 -9.6085e+01  8e-06  3e-15  2e-15\n",
      "Optimal solution found.\n",
      "     pcost       dcost       gap    pres   dres\n",
      " 0: -4.3593e+01 -1.1422e+05  2e+05  3e-01  2e-14\n",
      " 1: -5.7687e+01 -1.8173e+04  2e+04  2e-02  2e-14\n",
      " 2: -6.6421e+02 -8.1634e+03  9e+03  6e-03  2e-14\n",
      " 3: -1.0038e+03 -5.5445e+03  5e+03  3e-03  2e-14\n",
      " 4: -1.3221e+03 -3.6305e+03  2e+03  1e-03  2e-14\n",
      " 5: -1.5853e+03 -2.4129e+03  8e+02  2e-04  3e-14\n",
      " 6: -1.7090e+03 -1.9935e+03  3e+02  3e-05  3e-14\n",
      " 7: -1.7522e+03 -1.8633e+03  1e+02  8e-06  3e-14\n",
      " 8: -1.7659e+03 -1.8218e+03  6e+01  2e-14  3e-14\n",
      " 9: -1.7760e+03 -1.7962e+03  2e+01  3e-14  3e-14\n",
      "10: -1.7798e+03 -1.7873e+03  7e+00  3e-14  3e-14\n",
      "11: -1.7816e+03 -1.7837e+03  2e+00  4e-15  3e-14\n",
      "12: -1.7821e+03 -1.7828e+03  8e-01  3e-14  3e-14\n",
      "13: -1.7823e+03 -1.7826e+03  3e-01  8e-15  3e-14\n",
      "14: -1.7824e+03 -1.7824e+03  6e-02  1e-13  4e-14\n",
      "15: -1.7824e+03 -1.7824e+03  2e-02  1e-13  4e-14\n",
      "16: -1.7824e+03 -1.7824e+03  2e-03  2e-13  3e-14\n"
     ]
    },
    {
     "name": "stderr",
     "output_type": "stream",
     "text": [
      " 50%|█████     | 3/6 [13:02<13:25, 268.42s/it]"
     ]
    },
    {
     "name": "stdout",
     "output_type": "stream",
     "text": [
      "17: -1.7824e+03 -1.7824e+03  5e-05  1e-13  4e-14\n",
      "Optimal solution found.\n",
      "     pcost       dcost       gap    pres   dres\n",
      " 0: -9.7442e+02 -1.3853e+05  3e+05  4e-01  3e-14\n",
      " 1: -7.9705e+02 -2.4387e+04  3e+04  2e-02  3e-14\n",
      " 2: -1.4921e+03 -1.1056e+04  1e+04  7e-03  3e-14\n",
      " 3: -2.0039e+03 -7.1552e+03  6e+03  2e-03  3e-14\n",
      " 4: -2.3500e+03 -5.4753e+03  3e+03  1e-03  3e-14\n",
      " 5: -2.6533e+03 -4.1224e+03  2e+03  4e-04  4e-14\n",
      " 6: -2.8428e+03 -3.4220e+03  6e+02  4e-05  4e-14\n",
      " 7: -2.9330e+03 -3.1578e+03  2e+02  6e-06  4e-14\n",
      " 8: -2.9777e+03 -3.0437e+03  7e+01  4e-13  5e-14\n",
      " 9: -2.9901e+03 -3.0205e+03  3e+01  2e-13  4e-14\n",
      "10: -2.9964e+03 -3.0092e+03  1e+01  2e-13  5e-14\n",
      "11: -3.0012e+03 -3.0021e+03  9e-01  2e-13  5e-14\n",
      "12: -3.0016e+03 -3.0016e+03  3e-02  1e-13  5e-14\n"
     ]
    },
    {
     "name": "stderr",
     "output_type": "stream",
     "text": [
      " 67%|██████▋   | 4/6 [17:19<08:48, 264.17s/it]"
     ]
    },
    {
     "name": "stdout",
     "output_type": "stream",
     "text": [
      "13: -3.0016e+03 -3.0016e+03  5e-04  9e-14  5e-14\n",
      "Optimal solution found.\n",
      "     pcost       dcost       gap    pres   dres\n",
      " 0:  1.6166e+03 -1.3853e+05  3e+05  4e-01  1e-14\n",
      " 1:  1.9434e+03 -2.3439e+04  4e+04  3e-02  1e-14\n",
      " 2:  6.0523e+02 -7.1730e+03  9e+03  7e-03  1e-14\n",
      " 3: -9.4534e+01 -2.5980e+03  3e+03  1e-03  1e-14\n",
      " 4: -3.3166e+02 -1.5550e+03  1e+03  5e-04  1e-14\n",
      " 5: -4.6597e+02 -1.0067e+03  5e+02  1e-04  1e-14\n",
      " 6: -5.3135e+02 -7.8149e+02  3e+02  2e-05  1e-14\n",
      " 7: -5.6578e+02 -6.7014e+02  1e+02  5e-06  1e-14\n",
      " 8: -5.7992e+02 -6.2902e+02  5e+01  1e-13  1e-14\n",
      " 9: -5.8933e+02 -6.0665e+02  2e+01  2e-14  1e-14\n",
      "10: -5.9108e+02 -6.0190e+02  1e+01  1e-15  1e-14\n",
      "11: -5.9364e+02 -5.9732e+02  4e+00  2e-13  1e-14\n",
      "12: -5.9464e+02 -5.9561e+02  1e+00  2e-13  1e-14\n",
      "13: -5.9487e+02 -5.9523e+02  4e-01  8e-14  1e-14\n",
      "14: -5.9495e+02 -5.9512e+02  2e-01  3e-14  1e-14\n",
      "15: -5.9500e+02 -5.9506e+02  6e-02  4e-14  1e-14\n",
      "16: -5.9502e+02 -5.9503e+02  1e-02  6e-14  1e-14\n",
      "17: -5.9502e+02 -5.9503e+02  4e-03  5e-14  1e-14\n"
     ]
    },
    {
     "name": "stderr",
     "output_type": "stream",
     "text": [
      " 83%|████████▎ | 5/6 [22:13<04:34, 274.63s/it]"
     ]
    },
    {
     "name": "stdout",
     "output_type": "stream",
     "text": [
      "18: -5.9502e+02 -5.9502e+02  2e-04  8e-14  1e-14\n",
      "Optimal solution found.\n",
      "     pcost       dcost       gap    pres   dres\n",
      " 0:  2.0972e+01 -1.2299e+05  2e+05  3e-01  2e-14\n",
      " 1: -1.8074e+02 -2.0204e+04  3e+04  2e-02  3e-14\n",
      " 2: -1.1718e+03 -8.4642e+03  9e+03  6e-03  2e-14\n",
      " 3: -1.7349e+03 -4.8122e+03  3e+03  2e-03  3e-14\n",
      " 4: -2.0717e+03 -3.4888e+03  1e+03  4e-04  3e-14\n",
      " 5: -2.2078e+03 -2.9905e+03  8e+02  1e-04  3e-14\n",
      " 6: -2.3155e+03 -2.5986e+03  3e+02  2e-05  3e-14\n",
      " 7: -2.3549e+03 -2.4826e+03  1e+02  2e-13  3e-14\n",
      " 8: -2.3779e+03 -2.4251e+03  5e+01  6e-14  3e-14\n",
      " 9: -2.3866e+03 -2.4050e+03  2e+01  2e-13  3e-14\n",
      "10: -2.3908e+03 -2.3973e+03  7e+00  3e-13  3e-14\n",
      "11: -2.3927e+03 -2.3939e+03  1e+00  2e-13  3e-14\n",
      "12: -2.3932e+03 -2.3932e+03  6e-02  3e-16  3e-14\n",
      "13: -2.3932e+03 -2.3932e+03  2e-02  2e-13  3e-14\n",
      "14: -2.3932e+03 -2.3932e+03  5e-03  2e-13  3e-14\n"
     ]
    },
    {
     "name": "stderr",
     "output_type": "stream",
     "text": [
      "100%|██████████| 6/6 [26:43<00:00, 267.19s/it]\n"
     ]
    },
    {
     "name": "stdout",
     "output_type": "stream",
     "text": [
      "15: -2.3932e+03 -2.3932e+03  2e-03  3e-13  3e-14\n",
      "Optimal solution found.\n"
     ]
    },
    {
     "name": "stderr",
     "output_type": "stream",
     "text": [
      "100%|██████████| 1609/1609 [01:48<00:00, 14.89it/s]"
     ]
    },
    {
     "name": "stdout",
     "output_type": "stream",
     "text": [
      "Accuracy:  0.6880049720323183\n",
      "Balanced Accuracy:  0.7191055574291102\n",
      "Confusion Matrix:\n",
      " [[285   2  10   6  40  12]\n",
      " [  1 176   1   2   6   3]\n",
      " [  2   7 196 103  11  23]\n",
      " [  2   4  18 104   9  18]\n",
      " [  4   0   2   6 155  18]\n",
      " [  0   5  11 114  62 191]]\n"
     ]
    },
    {
     "name": "stderr",
     "output_type": "stream",
     "text": [
      "\n"
     ]
    }
   ],
   "source": [
    "from tqdm import tqdm\n",
    "\n",
    "unique_classes = np.unique(complete_y_train)\n",
    "label_vector_values = {}\n",
    "for i, label in enumerate(tqdm(unique_classes)):\n",
    "    converted_y_train = np.where(complete_y_train == label, 1, -1)\n",
    "    support_vectors, support_vector_labels, support_vector_alphas = soft_margin_svm(complete_X_train, converted_y_train)\n",
    "    label_vector_values[label] = (support_vectors, support_vector_labels, support_vector_alphas)\n",
    "    \n",
    "predictions = []\n",
    "\n",
    "for i, x in enumerate(tqdm(complete_X_test)):\n",
    "    scores = {}\n",
    "    for label in unique_classes:\n",
    "        support_vectors, support_vector_labels, support_vector_alphas = label_vector_values[label]\n",
    "        score = decision_function(x, support_vectors, support_vector_labels, support_vector_alphas)\n",
    "        scores[label] = score\n",
    "        \n",
    "    predictions.append(max(scores, key=scores.get))\n",
    "\n",
    "_, _, cm = evaluate(complete_y_test, predictions)\n"
   ]
  },
  {
   "cell_type": "markdown",
   "metadata": {},
   "source": [
    "# Different SVM Kernels (40 points)"
   ]
  },
  {
   "cell_type": "markdown",
   "metadata": {},
   "source": [
    "A kernel in SVM is like a tool that helps solve tricky problems. It lets us work in a space with many dimensions, making complex calculations easier. With kernels, we can deal with lots of dimensions, even an endless amount. Kernels are crucial for sorting data into groups and help spot patterns in the data we're looking at. They're especially good at tackling twisty problems with a straightforward approach.\n",
    "\n",
    "Sometimes, finding a straight line or flat surface to divide data isn't possible, especially as we explore more dimensions. That's where different types of SVM kernels come in handy. They transform twisty, complicated data into a simpler form that's easier to separate. In this explanation, we talk about 4 popular types of these kernels. Also in following cells you can use any package.\n",
    "\n",
    "<img src=\"./kernel.jpg\" alt=\"Types of Kernel Functions\"  align=center class=\"saturate\">"
   ]
  },
  {
   "cell_type": "markdown",
   "metadata": {},
   "source": [
    "### Linear Kernel"
   ]
  },
  {
   "cell_type": "markdown",
   "metadata": {},
   "source": [
    "This is the simplest kind of kernel, typically working in one dimension. It works best when dealing with a lot of features. Linear kernels are quicker than other types.\n",
    "\n",
    "**Formula:**\n",
    "\n",
    "$$F(x, x_j) = sum(x, x_j)$$\n",
    "\n",
    "Now Implement svc classifier using a linear kernel. Get the prediction and evaluate it by function which you implemented before. Also plot confusion matrix by `Seaborn`."
   ]
  },
  {
   "cell_type": "code",
   "execution_count": 16,
   "metadata": {},
   "outputs": [
    {
     "name": "stdout",
     "output_type": "stream",
     "text": [
      "Accuracy:  0.872591671845867\n",
      "Balanced Accuracy:  0.8344319384555986\n",
      "Confusion Matrix:\n",
      " [[351   0   1   0   3   0]\n",
      " [  1 173   1   0  14   0]\n",
      " [  3   0 322  15   1   1]\n",
      " [  4   1  37  72   3  38]\n",
      " [  5   7   0   2 153  18]\n",
      " [  0   0  11  27  12 333]]\n"
     ]
    },
    {
     "data": {
      "image/png": "[encoded data removed]",
      "text/plain": [
       "<Figure size 800x600 with 2 Axes>"
      ]
     },
     "metadata": {},
     "output_type": "display_data"
    }
   ],
   "source": [
    "# TODO: Write your code here\n",
    "svc_linear = SVC(kernel='linear')\n",
    "svc_linear.fit(complete_X_train, complete_y_train)\n",
    "\n",
    "y_pred_linear = svc_linear.predict(complete_X_test)\n",
    "\n",
    "accuracy_linear, balanced_accuracy_linear, confusion_mat_linear = evaluate(complete_y_test, y_pred_linear)\n",
    "\n",
    "plt.figure(figsize=(8, 6))\n",
    "sns.heatmap(confusion_mat_linear, annot=True, cmap='Blues', fmt='g')\n",
    "plt.xlabel('Predicted labels')\n",
    "plt.ylabel('True labels')\n",
    "plt.title('Confusion Matrix - Linear Kernel SVM')\n",
    "plt.show()"
   ]
  },
  {
   "cell_type": "markdown",
   "metadata": {},
   "source": [
    "### Gaussian RBF kernel"
   ]
  },
  {
   "cell_type": "markdown",
   "metadata": {},
   "source": [
    "This kernel is a favorite choice in SVM, especially for data that doesn't line up straight. It's great for sorting data when you don't know much about it beforehand.\n",
    "\n",
    "**Formula:**\n",
    "\n",
    "$$F(x, x_j) = \\exp{(-\\gamma ||x - xj||^2)}$$\n",
    "\n",
    "Now, configure the SVC classifier with a sigmoid kernel. Get the prediction and evaluate it by function which you implemented before. Also plot confusion matrix as previous part. "
   ]
  },
  {
   "cell_type": "code",
   "execution_count": 20,
   "metadata": {},
   "outputs": [
    {
     "name": "stdout",
     "output_type": "stream",
     "text": [
      "Accuracy:  0.8912367930391547\n",
      "Balanced Accuracy:  0.8678617390048845\n",
      "Confusion Matrix:\n",
      " [[351   1   2   0   1   0]\n",
      " [  0 181   0   1   6   1]\n",
      " [  3   1 325   7   1   5]\n",
      " [  3   1  37  90   2  22]\n",
      " [  3   2   1   1 164  14]\n",
      " [  0   1  11  41   7 323]]\n"
     ]
    },
    {
     "data": {
      "image/png": "[encoded data removed]",
      "text/plain": [
       "<Figure size 800x600 with 2 Axes>"
      ]
     },
     "metadata": {},
     "output_type": "display_data"
    }
   ],
   "source": [
    "# TODO: Write your code here\n",
    "svc_rbf = SVC(kernel='rbf')\n",
    "svc_rbf.fit(complete_X_train, complete_y_train)\n",
    "y_pred_rbf = svc_rbf.predict(complete_X_test)\n",
    "accuracy_rbf, balanced_accuracy_rbf, confusion_mat_rbf = evaluate(complete_y_test, y_pred_rbf)\n",
    "\n",
    "plt.figure(figsize=(8, 6))\n",
    "sns.heatmap(confusion_mat_rbf, annot=True, cmap='Blues', fmt='g')\n",
    "plt.xlabel('Predicted labels')\n",
    "plt.ylabel('True labels')\n",
    "plt.title('Confusion Matrix - RBF Kernel SVM')\n",
    "plt.show()"
   ]
  },
  {
   "cell_type": "markdown",
   "metadata": {},
   "source": [
    "### Polynomial Kernel"
   ]
  },
  {
   "cell_type": "markdown",
   "metadata": {},
   "source": [
    "This is a broader version of the linear kernel. It's not as popular because it's not as quick or precise.\n",
    "\n",
    "**Formula:**\n",
    "\n",
    "$$F(x, x_j) = (x.x_j+1)^d$$\n",
    "\n",
    "Now, set up the SVC classifier using a *polynomial* kernel. Get the prediction and evaluate it by function which you implemented before. Also plot confusion matrix as previous parts."
   ]
  },
  {
   "cell_type": "code",
   "execution_count": 26,
   "metadata": {},
   "outputs": [
    {
     "name": "stdout",
     "output_type": "stream",
     "text": [
      "Accuracy:  0.8477315102548166\n",
      "Balanced Accuracy:  0.8191602351764184\n",
      "Confusion Matrix:\n",
      " [[353   0   1   0   1   0]\n",
      " [  3 175   1   3   5   2]\n",
      " [  5   0 310  21   0   6]\n",
      " [ 11   0  30  93   0  21]\n",
      " [ 25   2   0  10 128  20]\n",
      " [  2   1   4  68   3 305]]\n"
     ]
    },
    {
     "data": {
      "image/png": "[encoded data removed]",
      "text/plain": [
       "<Figure size 800x600 with 2 Axes>"
      ]
     },
     "metadata": {},
     "output_type": "display_data"
    }
   ],
   "source": [
    "# TODO: Write your code here\n",
    "svc_poly = SVC(kernel='poly', degree=3)\n",
    "svc_poly.fit(complete_X_train, complete_y_train)\n",
    "y_pred_poly = svc_poly.predict(complete_X_test)\n",
    "accuracy_poly, balanced_accuracy_poly, confusion_mat_poly = evaluate(complete_y_test, y_pred_poly)\n",
    "\n",
    "plt.figure(figsize=(8, 6))\n",
    "sns.heatmap(confusion_mat_poly, annot=True, cmap='Blues', fmt='g')\n",
    "plt.xlabel('Predicted labels')\n",
    "plt.ylabel('True labels')\n",
    "plt.title('Confusion Matrix - Polynomial Kernel SVM')\n",
    "plt.show()"
   ]
  },
  {
   "cell_type": "markdown",
   "metadata": {},
   "source": [
    "### Sigmoid Kernel"
   ]
  },
  {
   "cell_type": "markdown",
   "metadata": {},
   "source": [
    "This is mainly chosen for use with neural networks. The kernel function acts like the activation function in a two-layer perceptron neural network model, helping to activate the neurons.\n",
    "\n",
    "**Formula:**\n",
    "\n",
    "$$F(x, x_j) = \\tanh(α x a y + c)$$\n",
    "\n",
    "Now, configure the SVC classifier with a sigmoid kernel. Get the prediction and evaluate it by function which you implemented before. Also plot confusion matrix as previous parts. "
   ]
  },
  {
   "cell_type": "code",
   "execution_count": 22,
   "metadata": {},
   "outputs": [
    {
     "name": "stdout",
     "output_type": "stream",
     "text": [
      "Accuracy:  0.723430702299565\n",
      "Balanced Accuracy:  0.678944902894234\n",
      "Confusion Matrix:\n",
      " [[293   5  16   0  41   0]\n",
      " [ 25 156   0   2   6   0]\n",
      " [  2   0 306  30   3   1]\n",
      " [  4   1  39  50  16  45]\n",
      " [ 21  28   6  27  96   7]\n",
      " [  0   1  11  53  55 263]]\n"
     ]
    },
    {
     "data": {
      "image/png": "[encoded data removed]",
      "text/plain": [
       "<Figure size 800x600 with 2 Axes>"
      ]
     },
     "metadata": {},
     "output_type": "display_data"
    }
   ],
   "source": [
    "# TODO: Write your code here\n",
    "svc_sigmoid = SVC(kernel='sigmoid')\n",
    "svc_sigmoid.fit(complete_X_train, complete_y_train)\n",
    "y_pred_sigmoid = svc_sigmoid.predict(complete_X_test)\n",
    "accuracy_sigmoid, balanced_accuracy_sigmoid, confusion_mat_sigmoid = evaluate(complete_y_test, y_pred_sigmoid)\n",
    "\n",
    "plt.figure(figsize=(8, 6))\n",
    "sns.heatmap(confusion_mat_sigmoid, annot=True, cmap='Blues', fmt='g')\n",
    "plt.xlabel('Predicted labels')\n",
    "plt.ylabel('True labels')\n",
    "plt.title('Confusion Matrix - Sigmoid Kernel SVM')\n",
    "plt.show()"
   ]
  },
  {
   "cell_type": "markdown",
   "metadata": {},
   "source": [
    "Compare these four kernel functions with each other. What are the main advantages and disadvantages of each one? "
   ]
  },
  {
   "cell_type": "markdown",
   "metadata": {},
   "source": [
    "`TODO: Write Here`"
   ]
  },
  {
   "cell_type": "markdown",
   "metadata": {},
   "source": [
    "1. Linear Kernel:\n",
    "    \n",
    "    Advantages:\n",
    "    - Easy to implement\n",
    "    - Works well with a lot of features (high-dimentional data)\n",
    "    - Works well when data is linearly seperable\n",
    "    \n",
    "    Disadvantages:\n",
    "    - Bad performance when decision boundary is highly non-linear\n",
    "    - Limited in handling non-linear relationships between features\n",
    "\n",
    "\n",
    "2. Gaussian RBF Kernel:\n",
    "    \n",
    "    Advantages:\n",
    "    - Good performance even when decision boundary is highly non-linear\n",
    "    - Highly flexible and capable of capturing non-linear relationships\n",
    "    - useful when there is no prior knowledge about the distribution of data\n",
    "\n",
    "    Disadvantages:\n",
    "    - Might overfit on the training data, especially if gamma parameter is not fine-tuned.\n",
    "    - Computationally expensive for large data sets\n",
    "\n",
    "3. Polynomial Kernel:\n",
    "    \n",
    "    Advantages:\n",
    "    - More computationally efficient in comparison to Gaussian RBF Kernel\n",
    "    - Capable of capturing non-linear relationships in data by using polynomial features\n",
    "\n",
    "    Disadvantages:\n",
    "    - Might overfit on the training data, especially with high value of degree parameter.\n",
    "    - High sensitivity to choice of parameters, e.g. degree parameter\n",
    "\n",
    "4. Sigmoid Kernel:\n",
    "    \n",
    "    Advantages:\n",
    "    - Suitable for problems where data distribution is not well-understood\n",
    "    - Mostly computationally efficient\n",
    "    - Capable of capturing non-linear relationships in data\n",
    "\n",
    "    Disadvantages:\n",
    "    - Might overfit on the training data with not tuned parameters\n",
    "    - High sensitivity to choice of hyperparameters, e.g. kernel coefficients and bias\n",
    "    "
   ]
  }
 ],
 "metadata": {
  "kernelspec": {
   "display_name": "Python 3",
   "language": "python",
   "name": "python3"
  },
  "language_info": {
   "codemirror_mode": {
    "name": "ipython",
    "version": 3
   },
   "file_extension": ".py",
   "mimetype": "text/x-python",
   "name": "python",
   "nbconvert_exporter": "python",
   "pygments_lexer": "ipython3",
   "version": "3.11.9"
  }
 },
 "nbformat": 4,
 "nbformat_minor": 2
}
